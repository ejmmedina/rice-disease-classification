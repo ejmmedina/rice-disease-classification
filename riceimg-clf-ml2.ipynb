{
 "cells": [
  {
   "cell_type": "markdown",
   "metadata": {},
   "source": [
    "<h1 align='center'><font color=\"orange\">The Rice is Right:</font></h1>\n",
    "<h1 align='center'>Early Detection of Rice Leaf Disease using Convolutional Neural Networks</h1>"
   ]
  },
  {
   "cell_type": "markdown",
   "metadata": {},
   "source": [
    "# Highlights\n",
    "\n",
    "In the Philippines, rice farming industry is very dominant encompassing over 10 million Filipinos. However, these families earn as low as 10 pesos due to the current economy in the industry. Add this to the fact that 37\\% of their production are lost due to pests and diseases.\n",
    "\n",
    "This study aims to help farmers by early detection of disease through rice leaf image processing using convolutional neural networks. The model is trained on the Rice Disease Image Dataset by Huy Minh Do which includes over 3000 rice leaf images. Over 4 categories: Leaf Blast, Brown Spot, Hispa, and Healthy; the model performs well at 78.2\\% accuracy. We also looked at how it performs on classifying a healthy rice leaf and found that the model performed even better at 92.2\\%. Furthermore, we saw that the model is capable even for cases where the symptoms of the disease are still very small. This model gives farmers ample time to potentially save their crops, have better yield, and save cost from fertilizers and pesticides."
   ]
  },
  {
   "cell_type": "markdown",
   "metadata": {},
   "source": [
    "## Data"
   ]
  },
  {
   "cell_type": "markdown",
   "metadata": {},
   "source": [
    "The data used for this project is [Rice Diseases Image Dataset](https://www.kaggle.com/minhhuy2810/rice-diseases-image-dataset/version/1?fbclid=IwAR3QwbQzFpHLe_KCelIbrrMB4kwaBfhzJhrcqLwX7DEOJmLfkI4ZRF2le4U) compiled by Huy Minh Do and uploaded in Kaggle. This consists of 3355 images of isolated rice leaves with four classifications: Healthy (1488) or afflicted with one of the diseases: Hispa (565), Brown Spot (523), or Leaf Blast (779). The image sizes range from 734 by 734 pixels to 3120 by 3120 pixels. Sample images of the dataset for each classification is shown in Figure 1. \n",
    "\n",
    "<img src='sampleimages.png'>\n",
    "<div align='center'>Figure 1. Sample images of rice leaves per classification: Leaf Blast, Brown Spot, Hispa, and Healthy.</div>"
   ]
  },
  {
   "cell_type": "markdown",
   "metadata": {},
   "source": [
    "## Data Pre-processing\n",
    "\n",
    "Before any modeling or classification is performed on the images, several image pre-processing steps must be performed first. "
   ]
  },
  {
   "cell_type": "markdown",
   "metadata": {},
   "source": [
    "### Reshape\n",
    "\n",
    "To account for any limitations that may arise due to camera specifications, all images are reshaped to 300 by 300 pixels, regardless of initial shape. In doing so, the model that will be trained in the succeeding parts will be applicable to even low-quality images. We use PIL for this."
   ]
  },
  {
   "cell_type": "code",
   "execution_count": null,
   "metadata": {
    "ExecuteTime": {
     "end_time": "2019-12-23T08:56:13.064463Z",
     "start_time": "2019-12-23T08:56:13.036462Z"
    }
   },
   "outputs": [],
   "source": [
    "from PIL import Image\n",
    "import glob"
   ]
  },
  {
   "cell_type": "code",
   "execution_count": 245,
   "metadata": {
    "ExecuteTime": {
     "end_time": "2019-12-11T14:04:35.575257Z",
     "start_time": "2019-12-11T14:04:35.013398Z"
    }
   },
   "outputs": [],
   "source": [
    "files = glob.glob('D://Users/Public/Documents/MSDS/Data/rice-diseases-image-dataset/LabelledRice/Labelled/*/*')"
   ]
  },
  {
   "cell_type": "code",
   "execution_count": 248,
   "metadata": {
    "ExecuteTime": {
     "end_time": "2019-12-11T14:04:59.310867Z",
     "start_time": "2019-12-11T14:04:59.305905Z"
    }
   },
   "outputs": [],
   "source": [
    "files_reshape = list(map(lambda x: x.replace('/Labelled\\\\', '/Resized\\\\'), files))"
   ]
  },
  {
   "cell_type": "code",
   "execution_count": 250,
   "metadata": {
    "ExecuteTime": {
     "end_time": "2019-12-11T14:13:12.364526Z",
     "start_time": "2019-12-11T14:05:12.341279Z"
    }
   },
   "outputs": [],
   "source": [
    "basewidth = 300\n",
    "for file, file_save in zip(files, files_reshape):\n",
    "    img = Image.open(file)\n",
    "    wpercent = (basewidth/float(img.size[0]))\n",
    "    hsize = int((float(img.size[1])*float(wpercent)))\n",
    "    img = img.resize((basewidth,hsize), Image.ANTIALIAS)\n",
    "    img.save(file_save) \n"
   ]
  },
  {
   "cell_type": "markdown",
   "metadata": {},
   "source": [
    " To do this, a mask is created using the following steps:"
   ]
  },
  {
   "cell_type": "markdown",
   "metadata": {
    "ExecuteTime": {
     "end_time": "2019-12-11T10:48:17.242076Z",
     "start_time": "2019-12-11T10:48:17.234081Z"
    }
   },
   "source": [
    "### Background removal\n",
    "After reshaping, the foreground of the image, i.e. the actual leaf, must be separated from the background to reduce noise and data leakage, which would then lead to easier model training. With this, we need to do automated background removal such that an actual photo not taken in an isolated environment can be classified properly by our model.\n",
    "\n",
    "These are the steps taken to remove the background per image:\n",
    "\n",
    "1. We first perform thresholding according to the RGB values. We want the green pixels and the area around it so we filter by taking out the pixels that have too high red and blue values. \n",
    "\n",
    "        1a. We start with 220 threshold (out of 255) and continuously reduce this threshold if the resulting mask image is too big (i.e. not much of the image has been filtered). \n",
    "\n",
    "2. From the resulting mask, we perform morphological techniques like opening so that the pixels in-between the green leaf pixels will be included into the mask (i.e. the brown spots which will most likely be filtered out will be included using the morphological technique). For this, we use a circular structuring element of radius 13px.\n",
    "\n",
    "3. We perform erosion to increase the area of the mask in order for the filter to include the immediate surrounding pixels. Then a final closing operation was done to remove the isolated dots.\n",
    "\n",
    "4. From the blobs formed, we select the largest one and use that as the mask for our actual image.\n",
    "\n",
    "*erosion and opening was used and not dilation and closing since the foreground and background are reversed in the mask (the actual area we want to use has values of False and the backgroudn we want to remove has values of True)"
   ]
  },
  {
   "cell_type": "code",
   "execution_count": 17,
   "metadata": {
    "ExecuteTime": {
     "end_time": "2019-12-19T08:49:39.885299Z",
     "start_time": "2019-12-19T08:49:39.882489Z"
    }
   },
   "outputs": [],
   "source": [
    "from skimage.morphology import binary_closing, binary_opening, erosion"
   ]
  },
  {
   "cell_type": "code",
   "execution_count": 253,
   "metadata": {
    "ExecuteTime": {
     "end_time": "2019-12-11T14:14:45.817364Z",
     "start_time": "2019-12-11T14:14:45.811380Z"
    }
   },
   "outputs": [],
   "source": [
    "files_bgremoved = list(map(lambda x: x.replace('/Labelled\\\\', '/BGRemoved\\\\'), files))"
   ]
  },
  {
   "cell_type": "code",
   "execution_count": 254,
   "metadata": {
    "ExecuteTime": {
     "end_time": "2019-12-11T14:14:46.587208Z",
     "start_time": "2019-12-11T14:14:46.580220Z"
    }
   },
   "outputs": [],
   "source": [
    "selem = np.zeros((25, 25))\n",
    "\n",
    "ci,cj=12, 12\n",
    "cr=13\n",
    "\n",
    "# Create index arrays to z\n",
    "I,J=np.meshgrid(np.arange(selem.shape[0]),np.arange(selem.shape[1]))\n",
    "\n",
    "# calculate distance of all points to centre\n",
    "dist=np.sqrt((I-ci)**2+(J-cj)**2)\n",
    "\n",
    "# Assign value of 1 to those points where dist<cr:\n",
    "selem[np.where(dist<=cr)]=1"
   ]
  },
  {
   "cell_type": "code",
   "execution_count": 268,
   "metadata": {
    "ExecuteTime": {
     "end_time": "2019-12-11T17:44:46.590736Z",
     "start_time": "2019-12-11T14:51:13.472621Z"
    },
    "scrolled": true
   },
   "outputs": [],
   "source": [
    "%matplotlib inline\n",
    "import numpy as np\n",
    "from scipy import ndimage\n",
    "\n",
    "# fig, ax = plt.subplots(20,2, figsize=(10,80))\n",
    "idx = 0\n",
    "for file, file_save in zip(files, files_bgremoved):\n",
    "    bg_frac = 0\n",
    "    thres = 220\n",
    "    img = Image.open(file)\n",
    "    im_arr = np.array(img)\n",
    "#     ax[idx, 0].imshow(im_arr)\n",
    "    R = im_arr[:, :, 0]\n",
    "    G = im_arr[:, :, 1]\n",
    "    B = im_arr[:, :, 2]\n",
    "    while bg_frac < 0.6: \n",
    "        bg_mask = ((R>thres) | (B>thres))# & (G < 100)\n",
    "        bg_frac = bg_mask.sum()/len(bg_mask.flatten())\n",
    "        thres -= 5\n",
    "    # we use opening first since our mask is reversed (the foreground and background are reversed here)\n",
    "    bg_mask = binary_closing(erosion(binary_opening(bg_mask, selem), np.ones((3, 3))), np.ones((5,5)))\n",
    "    \n",
    "    #Get biggest blob\n",
    "    label, num_label = ndimage.label(~bg_mask)\n",
    "    size = np.bincount(label.ravel())\n",
    "    biggest_label = size[1:].argmax() + 1\n",
    "    bg_mask = label == biggest_label\n",
    "    \n",
    "    im_arr[~bg_mask, 0] = 255\n",
    "    im_arr[~bg_mask, 1] = 255\n",
    "    im_arr[~bg_mask, 2] = 255\n",
    "    \n",
    "    img = Image.fromarray(im_arr)\n",
    "    img.save(file_save)\n",
    "    idx+=1"
   ]
  },
  {
   "cell_type": "code",
   "execution_count": 175,
   "metadata": {
    "ExecuteTime": {
     "end_time": "2019-12-11T13:15:45.622608Z",
     "start_time": "2019-12-11T13:15:45.368254Z"
    }
   },
   "outputs": [
    {
     "data": {
      "text/plain": [
       "(array([83779.,  2307.,   865.,   781.,  1153.,   383.,   118.,    89.,\n",
       "          148.,   377.]),\n",
       " array([  0. ,  25.5,  51. ,  76.5, 102. , 127.5, 153. , 178.5, 204. ,\n",
       "        229.5, 255. ]),\n",
       " <a list of 10 Patch objects>)"
      ]
     },
     "execution_count": 175,
     "metadata": {},
     "output_type": "execute_result"
    },
    {
     "data": {
      "image/png": "[encoded data removed]",
      "text/plain": [
       "<Figure size 432x288 with 1 Axes>"
      ]
     },
     "metadata": {
      "needs_background": "light"
     },
     "output_type": "display_data"
    }
   ],
   "source": [
    "%matplotlib inline\n",
    "import matplotlib.pyplot as plt\n",
    "plt.hist(R.flatten(), alpha=0.5)\n",
    "plt.hist(G.flatten(), alpha=0.5)\n",
    "plt.hist(B.flatten(), alpha=0.5)\n"
   ]
  },
  {
   "cell_type": "markdown",
   "metadata": {},
   "source": [
    "### Data Augmentation\n",
    "\n",
    "To account for different environments upon taking the picture, e.g. rotated images, shifted objects, zoomed in pictures, image augmentation is performed. The augmented images will be transformed versions of the dataset by randomly rotating the image up to 30$^\\circ$, shifting the image vertically or horizontally up to 15% of the image length, shearing the image up to 20$^\\circ$, and zooming in the image 0.8x to 1.2x."
   ]
  },
  {
   "cell_type": "code",
   "execution_count": 7,
   "metadata": {
    "ExecuteTime": {
     "end_time": "2019-12-19T08:16:44.180136Z",
     "start_time": "2019-12-19T08:16:42.185773Z"
    },
    "scrolled": true
   },
   "outputs": [],
   "source": [
    "import os\n",
    "import numpy as np\n",
    "from tensorflow.keras.preprocessing.image import ImageDataGenerator\n",
    "from tensorflow.keras import models\n",
    "from tensorflow.keras import layers\n",
    "from tensorflow.keras import optimizers\n",
    "import matplotlib.pyplot as plt\n",
    "%matplotlib inline\n",
    "\n",
    "base_dir = ('D://Users/Public/Documents/MSDS/Data/rice-diseases-image-dataset/LabelledRice/BGRemoved')\n",
    "os.makedirs(base_dir, exist_ok=True)"
   ]
  },
  {
   "cell_type": "code",
   "execution_count": 8,
   "metadata": {
    "ExecuteTime": {
     "end_time": "2019-12-19T08:16:47.480955Z",
     "start_time": "2019-12-19T08:16:44.193849Z"
    }
   },
   "outputs": [
    {
     "name": "stdout",
     "output_type": "stream",
     "text": [
      "Found 2319 images belonging to 4 classes.\n",
      "Found 991 images belonging to 4 classes.\n"
     ]
    }
   ],
   "source": [
    "datagen = ImageDataGenerator(\n",
    "    rotation_range=30, width_shift_range=0.15,\n",
    "    height_shift_range=0.15, shear_range=0.15, \n",
    "    zoom_range=0.2,horizontal_flip=True, \n",
    "    fill_mode=\"nearest\", validation_split=0.3)\n",
    "batch_size = 32\n",
    "\n",
    "train_generator = datagen.flow_from_directory(\n",
    "    base_dir,\n",
    "    target_size=(224, 224),\n",
    "    batch_size=batch_size,\n",
    "    class_mode='categorical',\n",
    "    subset='training')\n",
    "\n",
    "val_generator = datagen.flow_from_directory(\n",
    "    base_dir,\n",
    "    target_size=(224, 224),\n",
    "    batch_size=batch_size,\n",
    "    class_mode='categorical',\n",
    "    subset='validation')"
   ]
  },
  {
   "cell_type": "markdown",
   "metadata": {},
   "source": [
    "## Modeling\n",
    "\n",
    "For the modeling, we used different pre-trained models and one manually made model to classify the images. Six architectures were used for this project:\n",
    "\n",
    "1. VGG16 base for feature extraction and 3-dense layers for classification.\n",
    "2. VGG16 base with only the first 3 blocks frozen and 3-dense layers\n",
    "3. VGG19 base and 3-dense layers\n",
    "4. XCeption base and 3-dense layers\n",
    "5. ResNet base and 3-dense layers\n",
    "6. 5 convolutional layers and 2-dense layers"
   ]
  },
  {
   "cell_type": "markdown",
   "metadata": {},
   "source": [
    "### VGG16"
   ]
  },
  {
   "cell_type": "code",
   "execution_count": null,
   "metadata": {
    "ExecuteTime": {
     "end_time": "2019-12-23T11:28:44.452031Z",
     "start_time": "2019-12-23T11:28:29.784205Z"
    },
    "scrolled": false
   },
   "outputs": [],
   "source": [
    "from tensorflow.keras.callbacks import ModelCheckpoint, ReduceLROnPlateau\n",
    "\n",
    "checkpoint = ModelCheckpoint('VGG16.h5', verbose=1, monitor='val_accuracy', save_best_only=True, mode='auto')  "
   ]
  },
  {
   "cell_type": "code",
   "execution_count": 9,
   "metadata": {
    "ExecuteTime": {
     "end_time": "2019-12-19T08:16:47.498908Z",
     "start_time": "2019-12-19T08:16:47.491926Z"
    }
   },
   "outputs": [],
   "source": [
    "datagen = ImageDataGenerator(\n",
    "    rotation_range=30, width_shift_range=0.15,\n",
    "    height_shift_range=0.15, shear_range=0.15, \n",
    "    zoom_range=0.2,horizontal_flip=True, \n",
    "    fill_mode=\"nearest\")\n",
    "# datagen = ImageDataGenerator(rescale=1./255)\n",
    "\n",
    "def extract_features(trainorval, sample_count):\n",
    "    features = np.zeros(shape=(sample_count, 7, 7, 512))\n",
    "    labels = np.zeros(shape=(sample_count, 4))\n",
    "    if trainorval==\"training\":\n",
    "        generator = train_generator\n",
    "    else:\n",
    "        generator = val_generator\n",
    "    i = 0\n",
    "    for inputs_batch, labels_batch in generator:\n",
    "        features_batch = conv_base.predict(preprocess_input(inputs_batch))\n",
    "        try:\n",
    "            features[i * batch_size : (i + 1) * batch_size] = features_batch\n",
    "            labels[i * batch_size : (i + 1) * batch_size] = labels_batch\n",
    "        except ValueError:\n",
    "            break\n",
    "        i += 1\n",
    "        if i * batch_size >= sample_count:\n",
    "            break\n",
    "    return features, labels\n"
   ]
  },
  {
   "cell_type": "code",
   "execution_count": 10,
   "metadata": {
    "ExecuteTime": {
     "end_time": "2019-12-19T08:16:48.577485Z",
     "start_time": "2019-12-19T08:16:47.787391Z"
    }
   },
   "outputs": [
    {
     "name": "stdout",
     "output_type": "stream",
     "text": [
      "WARNING:tensorflow:From C:\\Users\\Justin\\Anaconda3\\envs\\tf-gpu\\lib\\site-packages\\tensorflow\\python\\ops\\init_ops.py:1251: calling VarianceScaling.__init__ (from tensorflow.python.ops.init_ops) with dtype is deprecated and will be removed in a future version.\n",
      "Instructions for updating:\n",
      "Call initializer instance with the dtype argument instead of passing it to the constructor\n"
     ]
    }
   ],
   "source": [
    "from tensorflow.keras.applications.vgg16 import VGG16, preprocess_input\n",
    "\n",
    "conv_base = VGG16(weights='imagenet',\n",
    "                  include_top=False,\n",
    "                  input_shape=(224, 224, 3))"
   ]
  },
  {
   "cell_type": "code",
   "execution_count": 11,
   "metadata": {
    "ExecuteTime": {
     "end_time": "2019-12-19T08:16:49.828759Z",
     "start_time": "2019-12-19T08:16:49.824753Z"
    }
   },
   "outputs": [],
   "source": [
    "conv_base.trainable = True\n",
    "for layer in conv_base.layers:\n",
    "    layer.trainable = True\n"
   ]
  },
  {
   "cell_type": "code",
   "execution_count": 12,
   "metadata": {
    "ExecuteTime": {
     "end_time": "2019-12-19T08:25:30.078651Z",
     "start_time": "2019-12-19T08:16:51.843433Z"
    }
   },
   "outputs": [],
   "source": [
    "train_features, train_labels = extract_features('training', 2319)\n",
    "validation_features, validation_labels = extract_features('validation', 991)\n",
    "\n",
    "train_features = np.reshape(train_features, (2319, 7 * 7 * 512))\n",
    "validation_features = np.reshape(validation_features, (991, 7 * 7 * 512))"
   ]
  },
  {
   "cell_type": "code",
   "execution_count": 3,
   "metadata": {
    "ExecuteTime": {
     "end_time": "2019-12-23T08:58:32.982783Z",
     "start_time": "2019-12-23T08:58:32.228356Z"
    }
   },
   "outputs": [],
   "source": [
    "model = models.Sequential()\n",
    "model.add(layers.Dense(256, activation='relu', input_dim=7 * 7 * 512))\n",
    "model.add(layers.Dropout(0.2))\n",
    "model.add(layers.Dense(128, activation='relu'))\n",
    "model.add(layers.Dropout(0.2))  #Removing 50% of the weights!\n",
    "model.add(layers.Dense(4, activation='softmax'))"
   ]
  },
  {
   "cell_type": "code",
   "execution_count": 5,
   "metadata": {
    "ExecuteTime": {
     "end_time": "2019-12-23T08:59:15.375270Z",
     "start_time": "2019-12-23T08:59:15.139233Z"
    }
   },
   "outputs": [],
   "source": [
    "from tensorflow.keras.optimizers import Adam\n",
    "\n",
    "INIT_LR = 1e-1\n",
    "EPOCHS = 30\n",
    "\n",
    "opt = Adam(lr=INIT_LR, decay=INIT_LR / EPOCHS)\n",
    "model.compile(loss=\"binary_crossentropy\", optimizer=opt, metrics=[\"accuracy\"])"
   ]
  },
  {
   "cell_type": "code",
   "execution_count": 18,
   "metadata": {
    "ExecuteTime": {
     "end_time": "2019-12-23T09:30:20.525123Z",
     "start_time": "2019-12-23T09:30:20.377121Z"
    }
   },
   "outputs": [
    {
     "name": "stdout",
     "output_type": "stream",
     "text": [
      "Failed to import pydot. You must install pydot and graphviz for `pydotprint` to work.\n"
     ]
    }
   ],
   "source": [
    "from tensorflow.keras.models import Sequential\n",
    "from tensorflow.keras.layers import Dense\n",
    "# from tensorflow.keras.utils.vis_utils import plot_model\n",
    "from tensorflow.keras.utils import plot_model\n",
    "import os\n",
    "os.environ[\"PATH\"] += os.pathsep + 'C:\\\\Users\\\\1000246125\\\\AppData\\\\Local\\\\Continuum\\\\anaconda3\\\\Library\\\\bin'\n",
    "model = Sequential()\n",
    "model.add(Dense(2, input_dim=1, activation='relu'))\n",
    "model.add(Dense(1, activation='sigmoid'))\n",
    "plot_model(model, to_file='model_plot.png', show_shapes=True, show_layer_names=True)"
   ]
  },
  {
   "cell_type": "code",
   "execution_count": 14,
   "metadata": {
    "ExecuteTime": {
     "end_time": "2019-12-19T08:26:49.729940Z",
     "start_time": "2019-12-19T08:25:30.259953Z"
    },
    "scrolled": true
   },
   "outputs": [
    {
     "name": "stdout",
     "output_type": "stream",
     "text": [
      "Train on 2319 samples, validate on 991 samples\n",
      "WARNING:tensorflow:From C:\\Users\\Justin\\Anaconda3\\envs\\tf-gpu\\lib\\site-packages\\tensorflow\\python\\ops\\math_grad.py:1250: add_dispatch_support.<locals>.wrapper (from tensorflow.python.ops.array_ops) is deprecated and will be removed in a future version.\n",
      "Instructions for updating:\n",
      "Use tf.where in 2.0, which has the same broadcast rule as np.where\n"
     ]
    },
    {
     "name": "stderr",
     "output_type": "stream",
     "text": [
      "Using TensorFlow backend.\n"
     ]
    },
    {
     "name": "stdout",
     "output_type": "stream",
     "text": [
      "Epoch 1/30\n",
      "2272/2319 [============================>.] - ETA: 0s - loss: 6.3477 - acc: 0.5844\n",
      "Epoch 00001: val_acc improved from -inf to 0.58426, saving model to VGG16.h5\n",
      "2319/2319 [==============================] - 3s 1ms/sample - loss: 6.3451 - acc: 0.5846 - val_loss: 6.3937 - val_acc: 0.5843\n",
      "Epoch 2/30\n",
      "2272/2319 [============================>.] - ETA: 0s - loss: 6.3831 - acc: 0.5849\n",
      "Epoch 00002: val_acc did not improve from 0.58426\n",
      "2319/2319 [==============================] - 3s 1ms/sample - loss: 6.3964 - acc: 0.5841 - val_loss: 6.3937 - val_acc: 0.5843\n",
      "Epoch 3/30\n",
      "2272/2319 [============================>.] - ETA: 0s - loss: 6.3933 - acc: 0.5843\n",
      "Epoch 00003: val_acc did not improve from 0.58426\n",
      "2319/2319 [==============================] - 3s 1ms/sample - loss: 6.3964 - acc: 0.5841 - val_loss: 6.3937 - val_acc: 0.5843\n",
      "Epoch 4/30\n",
      "2272/2319 [============================>.] - ETA: 0s - loss: 6.3967 - acc: 0.5841\n",
      "Epoch 00004: val_acc did not improve from 0.58426\n",
      "2319/2319 [==============================] - 3s 1ms/sample - loss: 6.3964 - acc: 0.5841 - val_loss: 6.3937 - val_acc: 0.5843\n",
      "Epoch 5/30\n",
      "2272/2319 [============================>.] - ETA: 0s - loss: 6.3933 - acc: 0.5843\n",
      "Epoch 00005: val_acc did not improve from 0.58426\n",
      "2319/2319 [==============================] - 3s 1ms/sample - loss: 6.3964 - acc: 0.5841 - val_loss: 6.3937 - val_acc: 0.5843\n",
      "Epoch 6/30\n",
      "2304/2319 [============================>.] - ETA: 0s - loss: 6.3979 - acc: 0.5840\n",
      "Epoch 00006: val_acc did not improve from 0.58426\n",
      "2319/2319 [==============================] - 3s 1ms/sample - loss: 6.3964 - acc: 0.5841 - val_loss: 6.3937 - val_acc: 0.5843\n",
      "Epoch 7/30\n",
      "2272/2319 [============================>.] - ETA: 0s - loss: 6.4001 - acc: 0.5838\n",
      "Epoch 00007: val_acc did not improve from 0.58426\n",
      "2319/2319 [==============================] - 3s 1ms/sample - loss: 6.3964 - acc: 0.5841 - val_loss: 6.3937 - val_acc: 0.5843\n",
      "Epoch 8/30\n",
      "2304/2319 [============================>.] - ETA: 0s - loss: 6.4013 - acc: 0.5838\n",
      "Epoch 00008: val_acc did not improve from 0.58426\n",
      "2319/2319 [==============================] - 3s 1ms/sample - loss: 6.3964 - acc: 0.5841 - val_loss: 6.3937 - val_acc: 0.5843\n",
      "Epoch 9/30\n",
      "2272/2319 [============================>.] - ETA: 0s - loss: 6.4102 - acc: 0.5832\n",
      "Epoch 00009: val_acc did not improve from 0.58426\n",
      "2319/2319 [==============================] - 3s 1ms/sample - loss: 6.3964 - acc: 0.5841 - val_loss: 6.3937 - val_acc: 0.5843\n",
      "Epoch 10/30\n",
      "2304/2319 [============================>.] - ETA: 0s - loss: 6.3913 - acc: 0.5844\n",
      "Epoch 00010: val_acc did not improve from 0.58426\n",
      "2319/2319 [==============================] - 3s 1ms/sample - loss: 6.3964 - acc: 0.5841 - val_loss: 6.3937 - val_acc: 0.5843\n",
      "Epoch 11/30\n",
      "2272/2319 [============================>.] - ETA: 0s - loss: 6.4034 - acc: 0.5836\n",
      "Epoch 00011: val_acc did not improve from 0.58426\n",
      "2319/2319 [==============================] - 3s 1ms/sample - loss: 6.3964 - acc: 0.5841 - val_loss: 6.3937 - val_acc: 0.5843\n",
      "Epoch 12/30\n",
      "2272/2319 [============================>.] - ETA: 0s - loss: 6.4034 - acc: 0.5836\n",
      "Epoch 00012: val_acc did not improve from 0.58426\n",
      "2319/2319 [==============================] - 3s 1ms/sample - loss: 6.3964 - acc: 0.5841 - val_loss: 6.3937 - val_acc: 0.5843\n",
      "Epoch 13/30\n",
      "2304/2319 [============================>.] - ETA: 0s - loss: 6.3979 - acc: 0.5840\n",
      "Epoch 00013: val_acc did not improve from 0.58426\n",
      "2319/2319 [==============================] - 3s 1ms/sample - loss: 6.3964 - acc: 0.5841 - val_loss: 6.3937 - val_acc: 0.5843\n",
      "Epoch 14/30\n",
      "2304/2319 [============================>.] - ETA: 0s - loss: 6.3946 - acc: 0.5842\n",
      "Epoch 00014: val_acc did not improve from 0.58426\n",
      "2319/2319 [==============================] - 3s 1ms/sample - loss: 6.3964 - acc: 0.5841 - val_loss: 6.3937 - val_acc: 0.5843\n",
      "Epoch 15/30\n",
      "2304/2319 [============================>.] - ETA: 0s - loss: 6.4013 - acc: 0.5838\n",
      "Epoch 00015: val_acc did not improve from 0.58426\n",
      "2319/2319 [==============================] - 3s 1ms/sample - loss: 6.3964 - acc: 0.5841 - val_loss: 6.3937 - val_acc: 0.5843\n",
      "Epoch 16/30\n",
      "2272/2319 [============================>.] - ETA: 0s - loss: 6.3899 - acc: 0.5845\n",
      "Epoch 00016: val_acc did not improve from 0.58426\n",
      "2319/2319 [==============================] - 3s 1ms/sample - loss: 6.3964 - acc: 0.5841 - val_loss: 6.3937 - val_acc: 0.5843\n",
      "Epoch 17/30\n",
      "2272/2319 [============================>.] - ETA: 0s - loss: 6.3967 - acc: 0.5841\n",
      "Epoch 00017: val_acc did not improve from 0.58426\n",
      "2319/2319 [==============================] - 3s 1ms/sample - loss: 6.3964 - acc: 0.5841 - val_loss: 6.3937 - val_acc: 0.5843\n",
      "Epoch 18/30\n",
      "2272/2319 [============================>.] - ETA: 0s - loss: 6.4068 - acc: 0.5834- ETA: 1s - loss: 6.58\n",
      "Epoch 00018: val_acc did not improve from 0.58426\n",
      "2319/2319 [==============================] - 2s 1ms/sample - loss: 6.3964 - acc: 0.5841 - val_loss: 6.3937 - val_acc: 0.5843\n",
      "Epoch 19/30\n",
      "2272/2319 [============================>.] - ETA: 0s - loss: 6.4001 - acc: 0.5838\n",
      "Epoch 00019: val_acc did not improve from 0.58426\n",
      "2319/2319 [==============================] - 3s 1ms/sample - loss: 6.3964 - acc: 0.5841 - val_loss: 6.3937 - val_acc: 0.5843\n",
      "Epoch 20/30\n",
      "2272/2319 [============================>.] - ETA: 0s - loss: 6.4136 - acc: 0.5830\n",
      "Epoch 00020: val_acc did not improve from 0.58426\n",
      "2319/2319 [==============================] - 3s 1ms/sample - loss: 6.3964 - acc: 0.5841 - val_loss: 6.3937 - val_acc: 0.5843\n",
      "Epoch 21/30\n",
      "2272/2319 [============================>.] - ETA: 0s - loss: 6.4034 - acc: 0.5836\n",
      "Epoch 00021: val_acc did not improve from 0.58426\n",
      "2319/2319 [==============================] - 3s 1ms/sample - loss: 6.3964 - acc: 0.5841 - val_loss: 6.3937 - val_acc: 0.5843\n",
      "Epoch 22/30\n",
      "2272/2319 [============================>.] - ETA: 0s - loss: 6.4001 - acc: 0.5838\n",
      "Epoch 00022: val_acc did not improve from 0.58426\n",
      "2319/2319 [==============================] - 3s 1ms/sample - loss: 6.3964 - acc: 0.5841 - val_loss: 6.3937 - val_acc: 0.5843\n",
      "Epoch 23/30\n",
      "2272/2319 [============================>.] - ETA: 0s - loss: 6.3899 - acc: 0.5845\n",
      "Epoch 00023: val_acc did not improve from 0.58426\n",
      "2319/2319 [==============================] - 3s 1ms/sample - loss: 6.3964 - acc: 0.5841 - val_loss: 6.3937 - val_acc: 0.5843\n",
      "Epoch 24/30\n",
      "2272/2319 [============================>.] - ETA: 0s - loss: 6.4034 - acc: 0.5836\n",
      "Epoch 00024: val_acc did not improve from 0.58426\n",
      "2319/2319 [==============================] - 3s 1ms/sample - loss: 6.3964 - acc: 0.5841 - val_loss: 6.3937 - val_acc: 0.5843\n",
      "Epoch 25/30\n",
      "2272/2319 [============================>.] - ETA: 0s - loss: 6.3933 - acc: 0.5843\n",
      "Epoch 00025: val_acc did not improve from 0.58426\n",
      "2319/2319 [==============================] - 3s 1ms/sample - loss: 6.3964 - acc: 0.5841 - val_loss: 6.3937 - val_acc: 0.5843\n",
      "Epoch 26/30\n",
      "2272/2319 [============================>.] - ETA: 0s - loss: 6.3933 - acc: 0.5843\n",
      "Epoch 00026: val_acc did not improve from 0.58426\n",
      "2319/2319 [==============================] - 3s 1ms/sample - loss: 6.3964 - acc: 0.5841 - val_loss: 6.3937 - val_acc: 0.5843\n",
      "Epoch 27/30\n",
      "2272/2319 [============================>.] - ETA: 0s - loss: 6.3933 - acc: 0.5843\n",
      "Epoch 00027: val_acc did not improve from 0.58426\n",
      "2319/2319 [==============================] - 3s 1ms/sample - loss: 6.3964 - acc: 0.5841 - val_loss: 6.3937 - val_acc: 0.5843\n",
      "Epoch 28/30\n",
      "2272/2319 [============================>.] - ETA: 0s - loss: 6.3899 - acc: 0.5845\n",
      "Epoch 00028: val_acc did not improve from 0.58426\n",
      "2319/2319 [==============================] - 3s 1ms/sample - loss: 6.3964 - acc: 0.5841 - val_loss: 6.3937 - val_acc: 0.5843\n",
      "Epoch 29/30\n",
      "2272/2319 [============================>.] - ETA: 0s - loss: 6.4001 - acc: 0.5838\n",
      "Epoch 00029: val_acc did not improve from 0.58426\n",
      "2319/2319 [==============================] - 3s 1ms/sample - loss: 6.3964 - acc: 0.5841 - val_loss: 6.3937 - val_acc: 0.5843\n",
      "Epoch 30/30\n",
      "2272/2319 [============================>.] - ETA: 0s - loss: 6.4034 - acc: 0.5836\n",
      "Epoch 00030: val_acc did not improve from 0.58426\n",
      "2319/2319 [==============================] - 3s 1ms/sample - loss: 6.3964 - acc: 0.5841 - val_loss: 6.3937 - val_acc: 0.5843\n"
     ]
    }
   ],
   "source": [
    "from tensorflow.keras.optimizers import Adam\n",
    "\n",
    "INIT_LR = 1e-1\n",
    "EPOCHS = 30\n",
    "\n",
    "opt = Adam(lr=INIT_LR, decay=INIT_LR / EPOCHS)\n",
    "\n",
    "model.compile(loss=\"binary_crossentropy\", optimizer=opt, metrics=[\"accuracy\"])\n",
    "\n",
    "from keras.callbacks import ModelCheckpoint\n",
    "\n",
    "checkpoint = ModelCheckpoint('VGG16.h5', verbose=1, monitor='val_acc', save_best_only=True, mode='auto') \n",
    "\n",
    "history = model.fit(train_features, train_labels,\n",
    "                    epochs=30,\n",
    "                    batch_size=batch_size,\n",
    "                    validation_data=(validation_features, validation_labels),\n",
    "                    callbacks=[checkpoint])"
   ]
  },
  {
   "cell_type": "markdown",
   "metadata": {},
   "source": [
    "### VGG16 (Frozen first 3)"
   ]
  },
  {
   "cell_type": "code",
   "execution_count": 81,
   "metadata": {
    "ExecuteTime": {
     "end_time": "2019-12-18T19:26:19.707566Z",
     "start_time": "2019-12-18T19:26:18.874210Z"
    }
   },
   "outputs": [
    {
     "name": "stdout",
     "output_type": "stream",
     "text": [
      "Found 2319 images belonging to 4 classes.\n",
      "Found 991 images belonging to 4 classes.\n"
     ]
    }
   ],
   "source": [
    "datagen = ImageDataGenerator(\n",
    "    rotation_range=30, width_shift_range=0.15,\n",
    "    height_shift_range=0.15, shear_range=0.15, \n",
    "    zoom_range=0.2,horizontal_flip=True, \n",
    "    fill_mode=\"nearest\", validation_split=0.3)\n",
    "batch_size = 32\n",
    "\n",
    "train_generator = datagen.flow_from_directory(\n",
    "    base_dir,\n",
    "    target_size=(224, 224),\n",
    "    batch_size=batch_size,\n",
    "    class_mode='categorical',\n",
    "    subset='training')\n",
    "\n",
    "val_generator = datagen.flow_from_directory(\n",
    "    base_dir,\n",
    "    target_size=(224, 224),\n",
    "    batch_size=batch_size,\n",
    "    class_mode='categorical',\n",
    "    subset='validation')"
   ]
  },
  {
   "cell_type": "code",
   "execution_count": 84,
   "metadata": {
    "ExecuteTime": {
     "end_time": "2019-12-18T19:26:23.784869Z",
     "start_time": "2019-12-18T19:26:23.748783Z"
    }
   },
   "outputs": [],
   "source": [
    "conv_base.trainable = True\n",
    "\n",
    "set_trainable = False\n",
    "for layer in conv_base.layers:\n",
    "    if layer.name == 'block4_conv1':\n",
    "        set_trainable = True\n",
    "    if set_trainable:\n",
    "        layer.trainable = True\n",
    "    else:\n",
    "        layer.trainable = False"
   ]
  },
  {
   "cell_type": "code",
   "execution_count": 99,
   "metadata": {
    "ExecuteTime": {
     "end_time": "2019-12-19T06:59:35.594530Z",
     "start_time": "2019-12-19T06:59:29.974669Z"
    }
   },
   "outputs": [],
   "source": [
    "model = models.Sequential()\n",
    "model.add(conv_base)\n",
    "model.add(layers.Flatten())\n",
    "model.add(layers.Dense(256, activation='relu', input_dim=7 * 7 * 512))\n",
    "# model.add(layers.Dropout(0.2))\n",
    "model.add(layers.Dense(128, activation='relu'))\n",
    "# model.add(layers.Dropout(0.2))  #Removing 50% of the weights!\n",
    "model.add(layers.Dense(4, activation='softmax'))"
   ]
  },
  {
   "cell_type": "code",
   "execution_count": 86,
   "metadata": {
    "ExecuteTime": {
     "end_time": "2019-12-18T23:55:16.065526Z",
     "start_time": "2019-12-18T19:26:24.722747Z"
    },
    "scrolled": true
   },
   "outputs": [
    {
     "name": "stdout",
     "output_type": "stream",
     "text": [
      "Epoch 1/30\n",
      "71/72 [============================>.] - ETA: 6s - loss: 4.5213 - acc: 0.7051 \n",
      "Epoch 00001: val_acc improved from -inf to 0.72200, saving model to VGG16_frozen4.h5\n",
      "72/72 [==============================] - 550s 8s/step - loss: 4.5388 - acc: 0.7040 - val_loss: 4.2754 - val_acc: 0.7220\n",
      "Epoch 2/30\n",
      "71/72 [============================>.] - ETA: 5s - loss: 4.2951 - acc: 0.7206 \n",
      "Epoch 00002: val_acc did not improve from 0.72200\n",
      "72/72 [==============================] - 535s 7s/step - loss: 4.2922 - acc: 0.7208 - val_loss: 4.2761 - val_acc: 0.7220\n",
      "Epoch 3/30\n",
      "71/72 [============================>.] - ETA: 5s - loss: 4.2723 - acc: 0.7226 \n",
      "Epoch 00003: val_acc did not improve from 0.72200\n",
      "72/72 [==============================] - 535s 7s/step - loss: 4.2596 - acc: 0.7234 - val_loss: 4.2754 - val_acc: 0.7220\n",
      "Epoch 4/30\n",
      "71/72 [============================>.] - ETA: 5s - loss: 4.3019 - acc: 0.7202 \n",
      "Epoch 00004: val_acc did not improve from 0.72200\n",
      "72/72 [==============================] - 537s 7s/step - loss: 4.2922 - acc: 0.7208 - val_loss: 4.2754 - val_acc: 0.7220\n",
      "Epoch 5/30\n",
      "71/72 [============================>.] - ETA: 5s - loss: 4.2613 - acc: 0.7228 \n",
      "Epoch 00005: val_acc did not improve from 0.72200\n",
      "72/72 [==============================] - 537s 7s/step - loss: 4.2689 - acc: 0.7223 - val_loss: 4.2751 - val_acc: 0.7220\n",
      "Epoch 6/30\n",
      "71/72 [============================>.] - ETA: 5s - loss: 4.3082 - acc: 0.7195 \n",
      "Epoch 00006: val_acc did not improve from 0.72200\n",
      "72/72 [==============================] - 537s 7s/step - loss: 4.3085 - acc: 0.7195 - val_loss: 4.2749 - val_acc: 0.7220\n",
      "Epoch 7/30\n",
      "71/72 [============================>.] - ETA: 6s - loss: 4.2667 - acc: 0.7217 \n",
      "Epoch 00007: val_acc did not improve from 0.72200\n",
      "72/72 [==============================] - 551s 8s/step - loss: 4.2477 - acc: 0.7230 - val_loss: 4.2754 - val_acc: 0.7220\n",
      "Epoch 8/30\n",
      "71/72 [============================>.] - ETA: 6s - loss: 4.2644 - acc: 0.7227 \n",
      "Epoch 00008: val_acc did not improve from 0.72200\n",
      "72/72 [==============================] - 540s 7s/step - loss: 4.2720 - acc: 0.7222 - val_loss: 4.2749 - val_acc: 0.7220\n",
      "Epoch 9/30\n",
      "71/72 [============================>.] - ETA: 5s - loss: 4.3051 - acc: 0.7196 \n",
      "Epoch 00009: val_acc did not improve from 0.72200\n",
      "72/72 [==============================] - 533s 7s/step - loss: 4.3054 - acc: 0.7196 - val_loss: 4.2741 - val_acc: 0.7220\n",
      "Epoch 10/30\n",
      "71/72 [============================>.] - ETA: 5s - loss: 4.2177 - acc: 0.7259 \n",
      "Epoch 00010: val_acc did not improve from 0.72200\n",
      "72/72 [==============================] - 535s 7s/step - loss: 4.2325 - acc: 0.7250 - val_loss: 4.2746 - val_acc: 0.7220\n",
      "Epoch 11/30\n",
      "71/72 [============================>.] - ETA: 5s - loss: 4.2791 - acc: 0.7222 \n",
      "Epoch 00011: val_acc did not improve from 0.72200\n",
      "72/72 [==============================] - 536s 7s/step - loss: 4.2797 - acc: 0.7221 - val_loss: 4.2749 - val_acc: 0.7220\n",
      "Epoch 12/30\n",
      "71/72 [============================>.] - ETA: 5s - loss: 4.3084 - acc: 0.7199 \n",
      "Epoch 00012: val_acc did not improve from 0.72200\n",
      "72/72 [==============================] - 538s 7s/step - loss: 4.3120 - acc: 0.7196 - val_loss: 4.2756 - val_acc: 0.7220\n",
      "Epoch 13/30\n",
      "71/72 [============================>.] - ETA: 5s - loss: 4.2509 - acc: 0.7232 \n",
      "Epoch 00013: val_acc did not improve from 0.72200\n",
      "72/72 [==============================] - 537s 7s/step - loss: 4.2487 - acc: 0.7233 - val_loss: 4.2741 - val_acc: 0.7220\n",
      "Epoch 14/30\n",
      "71/72 [============================>.] - ETA: 5s - loss: 4.2782 - acc: 0.7217 \n",
      "Epoch 00014: val_acc did not improve from 0.72200\n",
      "72/72 [==============================] - 542s 8s/step - loss: 4.2789 - acc: 0.7217 - val_loss: 4.2761 - val_acc: 0.7220\n",
      "Epoch 15/30\n",
      "71/72 [============================>.] - ETA: 5s - loss: 4.3134 - acc: 0.7202 \n",
      "Epoch 00015: val_acc did not improve from 0.72200\n",
      "72/72 [==============================] - 535s 7s/step - loss: 4.3001 - acc: 0.7210 - val_loss: 4.2756 - val_acc: 0.7220\n",
      "Epoch 16/30\n",
      "71/72 [============================>.] - ETA: 5s - loss: 4.2850 - acc: 0.7213 \n",
      "Epoch 00016: val_acc did not improve from 0.72200\n",
      "72/72 [==============================] - 535s 7s/step - loss: 4.2755 - acc: 0.7219 - val_loss: 4.2759 - val_acc: 0.7220\n",
      "Epoch 17/30\n",
      "71/72 [============================>.] - ETA: 6s - loss: 4.2543 - acc: 0.7234 \n",
      "Epoch 00017: val_acc did not improve from 0.72200\n",
      "72/72 [==============================] - 539s 7s/step - loss: 4.2620 - acc: 0.7229 - val_loss: 4.2744 - val_acc: 0.7220\n",
      "Epoch 18/30\n",
      "71/72 [============================>.] - ETA: 5s - loss: 4.3141 - acc: 0.7203 \n",
      "Epoch 00018: val_acc did not improve from 0.72200\n",
      "72/72 [==============================] - 532s 7s/step - loss: 4.3107 - acc: 0.7205 - val_loss: 4.2739 - val_acc: 0.7220\n",
      "Epoch 19/30\n",
      "71/72 [============================>.] - ETA: 5s - loss: 4.2566 - acc: 0.7224 \n",
      "Epoch 00019: val_acc did not improve from 0.72200\n",
      "72/72 [==============================] - 535s 7s/step - loss: 4.2510 - acc: 0.7228 - val_loss: 4.2749 - val_acc: 0.7220\n",
      "Epoch 20/30\n",
      "71/72 [============================>.] - ETA: 5s - loss: 4.2227 - acc: 0.7246 \n",
      "Epoch 00020: val_acc did not improve from 0.72200\n",
      "72/72 [==============================] - 538s 7s/step - loss: 4.2210 - acc: 0.7247 - val_loss: 4.2751 - val_acc: 0.7220\n",
      "Epoch 21/30\n",
      "71/72 [============================>.] - ETA: 5s - loss: 4.3121 - acc: 0.7195 \n",
      "Epoch 00021: val_acc did not improve from 0.72200\n",
      "72/72 [==============================] - 536s 7s/step - loss: 4.3056 - acc: 0.7199 - val_loss: 4.2761 - val_acc: 0.7220\n",
      "Epoch 22/30\n",
      "71/72 [============================>.] - ETA: 5s - loss: 4.3116 - acc: 0.7193 \n",
      "Epoch 00022: val_acc did not improve from 0.72200\n",
      "72/72 [==============================] - 537s 7s/step - loss: 4.3085 - acc: 0.7195 - val_loss: 4.2741 - val_acc: 0.7220\n",
      "Epoch 23/30\n",
      "71/72 [============================>.] - ETA: 5s - loss: 4.3048 - acc: 0.7197 \n",
      "Epoch 00023: val_acc did not improve from 0.72200\n",
      "72/72 [==============================] - 535s 7s/step - loss: 4.2985 - acc: 0.7202 - val_loss: 4.2764 - val_acc: 0.7220\n",
      "Epoch 24/30\n",
      "71/72 [============================>.] - ETA: 6s - loss: 4.1798 - acc: 0.7282 \n",
      "Epoch 00024: val_acc did not improve from 0.72200\n",
      "72/72 [==============================] - 540s 7s/step - loss: 4.1752 - acc: 0.7285 - val_loss: 4.2754 - val_acc: 0.7220\n",
      "Epoch 25/30\n",
      "71/72 [============================>.] - ETA: 5s - loss: 4.3330 - acc: 0.7183 \n",
      "Epoch 00025: val_acc did not improve from 0.72200\n",
      "72/72 [==============================] - 532s 7s/step - loss: 4.3263 - acc: 0.7187 - val_loss: 4.2751 - val_acc: 0.7220\n",
      "Epoch 26/30\n",
      "71/72 [============================>.] - ETA: 5s - loss: 4.3186 - acc: 0.7192 \n",
      "Epoch 00026: val_acc did not improve from 0.72200\n",
      "72/72 [==============================] - 537s 7s/step - loss: 4.3187 - acc: 0.7192 - val_loss: 4.2759 - val_acc: 0.7220\n",
      "Epoch 27/30\n",
      "71/72 [============================>.] - ETA: 5s - loss: 4.2836 - acc: 0.7223 \n",
      "Epoch 00027: val_acc did not improve from 0.72200\n",
      "72/72 [==============================] - 537s 7s/step - loss: 4.2974 - acc: 0.7214 - val_loss: 4.2751 - val_acc: 0.7220\n",
      "Epoch 28/30\n",
      "71/72 [============================>.] - ETA: 5s - loss: 4.2105 - acc: 0.7262 \n",
      "Epoch 00028: val_acc did not improve from 0.72200\n",
      "72/72 [==============================] - 536s 7s/step - loss: 4.2055 - acc: 0.7265 - val_loss: 4.2754 - val_acc: 0.7220\n",
      "Epoch 29/30\n",
      "71/72 [============================>.] - ETA: 5s - loss: 4.2613 - acc: 0.7228 \n",
      "Epoch 00029: val_acc did not improve from 0.72200\n",
      "72/72 [==============================] - 536s 7s/step - loss: 4.2655 - acc: 0.7226 - val_loss: 4.2756 - val_acc: 0.7220\n",
      "Epoch 30/30\n",
      "71/72 [============================>.] - ETA: 5s - loss: 4.3024 - acc: 0.7204 \n",
      "Epoch 00030: val_acc did not improve from 0.72200\n",
      "72/72 [==============================] - 535s 7s/step - loss: 4.3060 - acc: 0.7202 - val_loss: 4.2759 - val_acc: 0.7220\n"
     ]
    }
   ],
   "source": [
    "from tensorflow.keras.optimizers import Adam\n",
    "\n",
    "INIT_LR = 1e-3\n",
    "EPOCHS = 30\n",
    "\n",
    "opt = Adam(lr=INIT_LR, decay=INIT_LR / EPOCHS)\n",
    "\n",
    "model.compile(loss=\"binary_crossentropy\", optimizer=opt, metrics=[\"accuracy\"])\n",
    "\n",
    "from keras.callbacks import ModelCheckpoint\n",
    "\n",
    "checkpoint = ModelCheckpoint('VGG16_frozen3.h5', verbose=1, monitor='val_acc', save_best_only=True, mode='auto') \n",
    "\n",
    "history = model.fit_generator(train_generator,\n",
    "                    epochs=30,\n",
    "                    steps_per_epoch=2319 // batch_size,\n",
    "                    validation_data=val_generator,\n",
    "                    callbacks=[checkpoint])"
   ]
  },
  {
   "cell_type": "markdown",
   "metadata": {},
   "source": [
    "### VGG19"
   ]
  },
  {
   "cell_type": "code",
   "execution_count": 9,
   "metadata": {
    "ExecuteTime": {
     "end_time": "2019-12-18T01:37:59.154795Z",
     "start_time": "2019-12-18T01:37:58.792930Z"
    }
   },
   "outputs": [
    {
     "name": "stdout",
     "output_type": "stream",
     "text": [
      "Found 2319 images belonging to 4 classes.\n",
      "Found 991 images belonging to 4 classes.\n"
     ]
    }
   ],
   "source": [
    "datagen = ImageDataGenerator(\n",
    "    rotation_range=30, width_shift_range=0.15,\n",
    "    height_shift_range=0.15, shear_range=0.15, \n",
    "    zoom_range=0.2,horizontal_flip=True, \n",
    "    fill_mode=\"nearest\", validation_split=0.3)\n",
    "batch_size = 32\n",
    "\n",
    "train_generator = datagen.flow_from_directory(\n",
    "    base_dir,\n",
    "    target_size=(224, 224),\n",
    "    batch_size=batch_size,\n",
    "    class_mode='categorical',\n",
    "    subset='training')\n",
    "\n",
    "val_generator = datagen.flow_from_directory(\n",
    "    base_dir,\n",
    "    target_size=(224, 224),\n",
    "    batch_size=batch_size,\n",
    "    class_mode='categorical',\n",
    "    subset='validation')"
   ]
  },
  {
   "cell_type": "code",
   "execution_count": 17,
   "metadata": {
    "ExecuteTime": {
     "end_time": "2019-12-17T20:20:53.549141Z",
     "start_time": "2019-12-17T20:20:53.542160Z"
    }
   },
   "outputs": [],
   "source": [
    "def extract_features19(trainorval, sample_count):\n",
    "    features = np.zeros(shape=(sample_count, 7, 7, 512))\n",
    "    labels = np.zeros(shape=(sample_count, 4))\n",
    "    if trainorval==\"training\":\n",
    "        generator = train_generator\n",
    "    else:\n",
    "        generator = val_generator\n",
    "    i = 0\n",
    "    for inputs_batch, labels_batch in generator:\n",
    "        features_batch = conv_base19.predict(preprocess_input(inputs_batch))\n",
    "        try:\n",
    "            features[i * batch_size : (i + 1) * batch_size] = features_batch\n",
    "            labels[i * batch_size : (i + 1) * batch_size] = labels_batch\n",
    "        except ValueError:\n",
    "            break\n",
    "        if i==0:\n",
    "            print(\"one down\")\n",
    "        i += 1\n",
    "        if i * batch_size >= sample_count:\n",
    "            break\n",
    "    return features, labels"
   ]
  },
  {
   "cell_type": "code",
   "execution_count": 18,
   "metadata": {
    "ExecuteTime": {
     "end_time": "2019-12-17T20:20:54.743492Z",
     "start_time": "2019-12-17T20:20:53.975497Z"
    }
   },
   "outputs": [],
   "source": [
    "from tensorflow.keras.applications.vgg19 import VGG19, preprocess_input\n",
    "\n",
    "conv_base19 = VGG19(weights='imagenet',\n",
    "                  include_top=False,\n",
    "                  input_shape=(224, 224, 3))"
   ]
  },
  {
   "cell_type": "code",
   "execution_count": 21,
   "metadata": {
    "ExecuteTime": {
     "end_time": "2019-12-18T01:21:12.543085Z",
     "start_time": "2019-12-18T01:21:12.538131Z"
    }
   },
   "outputs": [],
   "source": [
    "train_features19, train_labels19 = extract_features19('training', 2319)\n",
    "validation_features19, validation_labels19 = extract_features19('validation', 991)\n",
    "\n",
    "train_features19 = np.reshape(train_features19, (2319, 7 * 7 * 512))\n",
    "validation_features19 = np.reshape(validation_features19, (991, 7 * 7 * 512))"
   ]
  },
  {
   "cell_type": "code",
   "execution_count": 48,
   "metadata": {
    "ExecuteTime": {
     "end_time": "2019-12-18T02:38:52.958494Z",
     "start_time": "2019-12-18T02:38:52.815287Z"
    }
   },
   "outputs": [],
   "source": [
    "model = models.Sequential()\n",
    "model.add(layers.Dense(256, activation='relu', input_dim=7 * 7 * 512))\n",
    "model.add(layers.Dropout(0.5))\n",
    "model.add(layers.Dense(128, activation='relu'))\n",
    "model.add(layers.Dropout(0.5))  #Removing 50% of the weights!\n",
    "model.add(layers.Dense(4, activation='softmax'))"
   ]
  },
  {
   "cell_type": "code",
   "execution_count": 49,
   "metadata": {
    "ExecuteTime": {
     "end_time": "2019-12-18T02:40:20.354185Z",
     "start_time": "2019-12-18T02:38:53.081709Z"
    },
    "scrolled": true
   },
   "outputs": [
    {
     "name": "stdout",
     "output_type": "stream",
     "text": [
      "Train on 2319 samples, validate on 991 samples\n",
      "Epoch 1/30\n",
      "2272/2319 [============================>.] - ETA: 0s - loss: 3.2541 - acc: 0.7797\n",
      "Epoch 00001: val_acc improved from -inf to 0.72200, saving model to VGG19.h5\n",
      "2319/2319 [==============================] - 6s 3ms/sample - loss: 3.2489 - acc: 0.7803 - val_loss: 4.2754 - val_acc: 0.7220\n",
      "Epoch 2/30\n",
      "2272/2319 [============================>.] - ETA: 0s - loss: 3.2890 - acc: 0.7870\n",
      "Epoch 00002: val_acc did not improve from 0.72200\n",
      "2319/2319 [==============================] - 3s 1ms/sample - loss: 3.3088 - acc: 0.7857 - val_loss: 4.3772 - val_acc: 0.6988\n",
      "Epoch 3/30\n",
      "2272/2319 [============================>.] - ETA: 0s - loss: 3.8938 - acc: 0.7447\n",
      "Epoch 00003: val_acc did not improve from 0.72200\n",
      "2319/2319 [==============================] - 3s 1ms/sample - loss: 3.8696 - acc: 0.7464 - val_loss: 4.2740 - val_acc: 0.7220\n",
      "Epoch 4/30\n",
      "2272/2319 [============================>.] - ETA: 0s - loss: 3.2188 - acc: 0.7931\n",
      "Epoch 00004: val_acc did not improve from 0.72200\n",
      "2319/2319 [==============================] - 3s 1ms/sample - loss: 3.1919 - acc: 0.7950 - val_loss: 4.2754 - val_acc: 0.7220\n",
      "Epoch 5/30\n",
      "2272/2319 [============================>.] - ETA: 0s - loss: 3.2176 - acc: 0.7953\n",
      "Epoch 00005: val_acc did not improve from 0.72200\n",
      "2319/2319 [==============================] - 3s 1ms/sample - loss: 3.2103 - acc: 0.7958 - val_loss: 4.2754 - val_acc: 0.7220\n",
      "Epoch 6/30\n",
      "2272/2319 [============================>.] - ETA: 0s - loss: 3.1789 - acc: 0.7980\n",
      "Epoch 00006: val_acc did not improve from 0.72200\n",
      "2319/2319 [==============================] - 3s 1ms/sample - loss: 3.1889 - acc: 0.7973 - val_loss: 4.2754 - val_acc: 0.7220\n",
      "Epoch 7/30\n",
      "2272/2319 [============================>.] - ETA: 0s - loss: 3.2000 - acc: 0.7967\n",
      "Epoch 00007: val_acc did not improve from 0.72200\n",
      "2319/2319 [==============================] - 3s 1ms/sample - loss: 3.2061 - acc: 0.7962 - val_loss: 4.2754 - val_acc: 0.7220\n",
      "Epoch 8/30\n",
      "2272/2319 [============================>.] - ETA: 0s - loss: 3.2064 - acc: 0.7962\n",
      "Epoch 00008: val_acc did not improve from 0.72200\n",
      "2319/2319 [==============================] - 3s 1ms/sample - loss: 3.2156 - acc: 0.7956 - val_loss: 4.2754 - val_acc: 0.7220\n",
      "Epoch 9/30\n",
      "2272/2319 [============================>.] - ETA: 0s - loss: 3.1898 - acc: 0.7973\n",
      "Epoch 00009: val_acc did not improve from 0.72200\n",
      "2319/2319 [==============================] - 3s 1ms/sample - loss: 3.2094 - acc: 0.7960 - val_loss: 4.2754 - val_acc: 0.7220\n",
      "Epoch 10/30\n",
      "2272/2319 [============================>.] - ETA: 0s - loss: 3.2034 - acc: 0.7964\n",
      "Epoch 00010: val_acc did not improve from 0.72200\n",
      "2319/2319 [==============================] - 3s 1ms/sample - loss: 3.1931 - acc: 0.7971 - val_loss: 4.2754 - val_acc: 0.7220\n",
      "Epoch 11/30\n",
      "2272/2319 [============================>.] - ETA: 0s - loss: 3.2329 - acc: 0.7945\n",
      "Epoch 00011: val_acc did not improve from 0.72200\n",
      "2319/2319 [==============================] - 3s 1ms/sample - loss: 3.2150 - acc: 0.7956 - val_loss: 4.2754 - val_acc: 0.7220\n",
      "Epoch 12/30\n",
      "2272/2319 [============================>.] - ETA: 0s - loss: 3.2022 - acc: 0.7962\n",
      "Epoch 00012: val_acc did not improve from 0.72200\n",
      "2319/2319 [==============================] - 3s 1ms/sample - loss: 3.2089 - acc: 0.7958 - val_loss: 4.2754 - val_acc: 0.7220\n",
      "Epoch 13/30\n",
      "2272/2319 [============================>.] - ETA: 0s - loss: 3.2109 - acc: 0.7960\n",
      "Epoch 00013: val_acc did not improve from 0.72200\n",
      "2319/2319 [==============================] - 3s 1ms/sample - loss: 3.2102 - acc: 0.7960 - val_loss: 4.2754 - val_acc: 0.7220\n",
      "Epoch 14/30\n",
      "2272/2319 [============================>.] - ETA: 0s - loss: 3.2159 - acc: 0.7953\n",
      "Epoch 00014: val_acc did not improve from 0.72200\n",
      "2319/2319 [==============================] - 3s 1ms/sample - loss: 3.2087 - acc: 0.7958 - val_loss: 4.2754 - val_acc: 0.7220\n",
      "Epoch 15/30\n",
      "2272/2319 [============================>.] - ETA: 0s - loss: 3.2357 - acc: 0.7936\n",
      "Epoch 00015: val_acc did not improve from 0.72200\n",
      "2319/2319 [==============================] - 3s 1ms/sample - loss: 3.2280 - acc: 0.7941 - val_loss: 4.2754 - val_acc: 0.7220\n",
      "Epoch 16/30\n",
      "2272/2319 [============================>.] - ETA: 0s - loss: 3.2690 - acc: 0.7916\n",
      "Epoch 00016: val_acc did not improve from 0.72200\n",
      "2319/2319 [==============================] - 3s 1ms/sample - loss: 3.2803 - acc: 0.7909 - val_loss: 4.5486 - val_acc: 0.7018\n",
      "Epoch 17/30\n",
      "2272/2319 [============================>.] - ETA: 0s - loss: 3.2041 - acc: 0.7958\n",
      "Epoch 00017: val_acc did not improve from 0.72200\n",
      "2319/2319 [==============================] - 3s 1ms/sample - loss: 3.2167 - acc: 0.7950 - val_loss: 4.2754 - val_acc: 0.7220\n",
      "Epoch 18/30\n",
      "2272/2319 [============================>.] - ETA: 0s - loss: 3.2040 - acc: 0.7964\n",
      "Epoch 00018: val_acc did not improve from 0.72200\n",
      "2319/2319 [==============================] - 3s 1ms/sample - loss: 3.2102 - acc: 0.7960 - val_loss: 4.2754 - val_acc: 0.7220\n",
      "Epoch 19/30\n",
      "2272/2319 [============================>.] - ETA: 0s - loss: 3.2428 - acc: 0.7938\n",
      "Epoch 00019: val_acc did not improve from 0.72200\n",
      "2319/2319 [==============================] - 3s 1ms/sample - loss: 3.2221 - acc: 0.7952 - val_loss: 4.2754 - val_acc: 0.7220\n",
      "Epoch 20/30\n",
      "2272/2319 [============================>.] - ETA: 0s - loss: 3.1796 - acc: 0.7978\n",
      "Epoch 00020: val_acc did not improve from 0.72200\n",
      "2319/2319 [==============================] - 3s 1ms/sample - loss: 3.1831 - acc: 0.7975 - val_loss: 4.2754 - val_acc: 0.7220\n",
      "Epoch 21/30\n",
      "2272/2319 [============================>.] - ETA: 0s - loss: 3.2013 - acc: 0.7967\n",
      "Epoch 00021: val_acc did not improve from 0.72200\n",
      "2319/2319 [==============================] - 3s 1ms/sample - loss: 3.2102 - acc: 0.7960 - val_loss: 4.2754 - val_acc: 0.7220\n",
      "Epoch 22/30\n",
      "2272/2319 [============================>.] - ETA: 0s - loss: 3.1944 - acc: 0.7969\n",
      "Epoch 00022: val_acc did not improve from 0.72200\n",
      "2319/2319 [==============================] - 3s 1ms/sample - loss: 3.1975 - acc: 0.7967 - val_loss: 4.2754 - val_acc: 0.7220\n",
      "Epoch 23/30\n",
      "2272/2319 [============================>.] - ETA: 0s - loss: 3.1731 - acc: 0.7982\n",
      "Epoch 00023: val_acc did not improve from 0.72200\n",
      "2319/2319 [==============================] - 3s 1ms/sample - loss: 3.1896 - acc: 0.7971 - val_loss: 4.2754 - val_acc: 0.7220\n",
      "Epoch 24/30\n",
      "2272/2319 [============================>.] - ETA: 0s - loss: 3.1702 - acc: 0.7982\n",
      "Epoch 00024: val_acc did not improve from 0.72200\n",
      "2319/2319 [==============================] - 3s 1ms/sample - loss: 3.1839 - acc: 0.7973 - val_loss: 4.2571 - val_acc: 0.7215\n",
      "Epoch 25/30\n",
      "2272/2319 [============================>.] - ETA: 0s - loss: 3.2285 - acc: 0.7945\n",
      "Epoch 00025: val_acc improved from 0.72200 to 0.72351, saving model to VGG19.h5\n",
      "2319/2319 [==============================] - 3s 1ms/sample - loss: 3.2305 - acc: 0.7943 - val_loss: 4.2502 - val_acc: 0.7235\n",
      "Epoch 26/30\n",
      "2272/2319 [============================>.] - ETA: 0s - loss: 3.4491 - acc: 0.7795\n",
      "Epoch 00026: val_acc did not improve from 0.72351\n",
      "2319/2319 [==============================] - 3s 1ms/sample - loss: 3.4246 - acc: 0.7809 - val_loss: 4.3949 - val_acc: 0.7129\n",
      "Epoch 27/30\n",
      "2272/2319 [============================>.] - ETA: 0s - loss: 3.5059 - acc: 0.7753\n",
      "Epoch 00027: val_acc did not improve from 0.72351\n",
      "2319/2319 [==============================] - 3s 1ms/sample - loss: 3.5133 - acc: 0.7747 - val_loss: 5.5158 - val_acc: 0.6398\n",
      "Epoch 28/30\n",
      "2272/2319 [============================>.] - ETA: 0s - loss: 3.6186 - acc: 0.7685\n",
      "Epoch 00028: val_acc did not improve from 0.72351\n",
      "2319/2319 [==============================] - 3s 1ms/sample - loss: 3.5998 - acc: 0.7697 - val_loss: 4.2521 - val_acc: 0.7235\n",
      "Epoch 29/30\n",
      "2272/2319 [============================>.] - ETA: 0s - loss: 3.2345 - acc: 0.7940\n",
      "Epoch 00029: val_acc improved from 0.72351 to 0.72402, saving model to VGG19.h5\n",
      "2319/2319 [==============================] - 4s 2ms/sample - loss: 3.2269 - acc: 0.7945 - val_loss: 4.2346 - val_acc: 0.7240\n",
      "Epoch 30/30\n",
      "2272/2319 [============================>.] - ETA: 0s - loss: 3.3915 - acc: 0.7839\n",
      "Epoch 00030: val_acc did not improve from 0.72402\n",
      "2319/2319 [==============================] - 3s 1ms/sample - loss: 3.3936 - acc: 0.7837 - val_loss: 4.8328 - val_acc: 0.6852\n"
     ]
    }
   ],
   "source": [
    "from tensorflow.keras.optimizers import Adam\n",
    "\n",
    "INIT_LR = 1e-3\n",
    "EPOCHS = 30\n",
    "\n",
    "opt = Adam(lr=INIT_LR, decay=INIT_LR / EPOCHS)\n",
    "\n",
    "model.compile(loss=\"binary_crossentropy\", optimizer=opt, metrics=[\"accuracy\"])\n",
    "\n",
    "from keras.callbacks import ModelCheckpoint\n",
    "\n",
    "checkpoint = ModelCheckpoint('VGG19.h5', verbose=1, monitor='val_acc', save_best_only=True, mode='auto') \n",
    "\n",
    "history = model.fit(train_features19, train_labels19,\n",
    "                    epochs=30,\n",
    "                    batch_size=batch_size,\n",
    "                    validation_data=(validation_features19, validation_labels19),\n",
    "                    callbacks=[checkpoint])"
   ]
  },
  {
   "cell_type": "markdown",
   "metadata": {},
   "source": [
    "### XCeption"
   ]
  },
  {
   "cell_type": "code",
   "execution_count": 28,
   "metadata": {
    "ExecuteTime": {
     "end_time": "2019-12-18T01:37:59.154795Z",
     "start_time": "2019-12-18T01:37:58.792930Z"
    }
   },
   "outputs": [
    {
     "name": "stdout",
     "output_type": "stream",
     "text": [
      "Found 2319 images belonging to 4 classes.\n",
      "Found 991 images belonging to 4 classes.\n"
     ]
    }
   ],
   "source": [
    "datagen = ImageDataGenerator(\n",
    "    rotation_range=30, width_shift_range=0.15,\n",
    "    height_shift_range=0.15, shear_range=0.15, \n",
    "    zoom_range=0.2,horizontal_flip=True, \n",
    "    fill_mode=\"nearest\", validation_split=0.3)\n",
    "batch_size = 32\n",
    "\n",
    "train_generator = datagen.flow_from_directory(\n",
    "    base_dir,\n",
    "    target_size=(224, 224),\n",
    "    batch_size=batch_size,\n",
    "    class_mode='categorical',\n",
    "    subset='training')\n",
    "\n",
    "val_generator = datagen.flow_from_directory(\n",
    "    base_dir,\n",
    "    target_size=(224, 224),\n",
    "    batch_size=batch_size,\n",
    "    class_mode='categorical',\n",
    "    subset='validation')"
   ]
  },
  {
   "cell_type": "code",
   "execution_count": 29,
   "metadata": {
    "ExecuteTime": {
     "end_time": "2019-12-18T01:23:39.106815Z",
     "start_time": "2019-12-18T01:23:39.096710Z"
    }
   },
   "outputs": [],
   "source": [
    "from tensorflow.keras.applications.xception import Xception, preprocess_input"
   ]
  },
  {
   "cell_type": "code",
   "execution_count": 30,
   "metadata": {
    "ExecuteTime": {
     "end_time": "2019-12-18T01:23:43.225755Z",
     "start_time": "2019-12-18T01:23:39.202559Z"
    }
   },
   "outputs": [],
   "source": [
    "xception_base = Xception(weights='imagenet',\n",
    "                         include_top=False, \n",
    "                         input_shape=(224, 224, 3))"
   ]
  },
  {
   "cell_type": "code",
   "execution_count": 31,
   "metadata": {
    "ExecuteTime": {
     "end_time": "2019-12-18T01:23:43.332492Z",
     "start_time": "2019-12-18T01:23:43.326476Z"
    }
   },
   "outputs": [],
   "source": [
    "# datagen = ImageDataGenerator(rescale=1./255)\n",
    "\n",
    "def extract_features_xception(trainorval, sample_count):\n",
    "    features = np.zeros(shape=(sample_count, 7, 7, 2048))\n",
    "    labels = np.zeros(shape=(sample_count, 4))\n",
    "    if trainorval==\"training\":\n",
    "        generator = train_generator\n",
    "    else:\n",
    "        generator = val_generator\n",
    "    i = 0\n",
    "    for inputs_batch, labels_batch in generator:\n",
    "        features_batch = xception_base.predict(preprocess_input(inputs_batch))\n",
    "        try:\n",
    "            features[i * batch_size : (i + 1) * batch_size] = features_batch\n",
    "            labels[i * batch_size : (i + 1) * batch_size] = labels_batch\n",
    "        except ValueError:\n",
    "            break\n",
    "        i += 1\n",
    "        if i * batch_size >= sample_count:\n",
    "            break\n",
    "    return features, labels"
   ]
  },
  {
   "cell_type": "code",
   "execution_count": 32,
   "metadata": {
    "ExecuteTime": {
     "end_time": "2019-12-18T01:30:37.121416Z",
     "start_time": "2019-12-18T01:23:43.420225Z"
    }
   },
   "outputs": [],
   "source": [
    "train_features_x, train_labels_x = extract_features_xception('training', 2319)\n",
    "validation_features_x, validation_labels_x = extract_features_xception('validation', 991)\n",
    "\n",
    "train_features_x = np.reshape(train_features_x, (2319, 7 * 7 * 2048))\n",
    "validation_features_x = np.reshape(validation_features_x, (991, 7 * 7 * 2048))"
   ]
  },
  {
   "cell_type": "code",
   "execution_count": 55,
   "metadata": {
    "ExecuteTime": {
     "end_time": "2019-12-18T03:14:03.825153Z",
     "start_time": "2019-12-18T03:14:02.359470Z"
    }
   },
   "outputs": [],
   "source": [
    "model = models.Sequential()\n",
    "model.add(layers.Dense(256, activation='relu', input_dim=7 * 7 * 2048))\n",
    "model.add(layers.Dropout(0.35))\n",
    "model.add(layers.Dense(128, activation='relu'))\n",
    "model.add(layers.Dropout(0.35))  #Removing 50% of the weights!\n",
    "model.add(layers.Dense(4, activation='softmax'))"
   ]
  },
  {
   "cell_type": "code",
   "execution_count": 56,
   "metadata": {
    "ExecuteTime": {
     "end_time": "2019-12-18T03:23:38.810529Z",
     "start_time": "2019-12-18T03:14:03.983720Z"
    },
    "scrolled": true
   },
   "outputs": [
    {
     "name": "stdout",
     "output_type": "stream",
     "text": [
      "Train on 2319 samples, validate on 991 samples\n",
      "Epoch 1/30\n",
      "2300/2319 [============================>.] - ETA: 0s - loss: 4.1240 - acc: 0.7145\n",
      "Epoch 00001: val_acc improved from -inf to 0.72402, saving model to XCeption.h5\n",
      "2319/2319 [==============================] - 141s 61ms/sample - loss: 4.1254 - acc: 0.7144 - val_loss: 4.2110 - val_acc: 0.7240\n",
      "Epoch 2/30\n",
      "2300/2319 [============================>.] - ETA: 0s - loss: 4.3414 - acc: 0.7130\n",
      "Epoch 00002: val_acc did not improve from 0.72402\n",
      "2319/2319 [==============================] - 20s 9ms/sample - loss: 4.3390 - acc: 0.7132 - val_loss: 4.2754 - val_acc: 0.7220\n",
      "Epoch 3/30\n",
      "2300/2319 [============================>.] - ETA: 0s - loss: 4.2730 - acc: 0.7220\n",
      "Epoch 00003: val_acc did not improve from 0.72402\n",
      "2319/2319 [==============================] - 15s 6ms/sample - loss: 4.2745 - acc: 0.7219 - val_loss: 4.2754 - val_acc: 0.7220\n",
      "Epoch 4/30\n",
      "2300/2319 [============================>.] - ETA: 0s - loss: 4.2801 - acc: 0.7211\n",
      "Epoch 00004: val_acc did not improve from 0.72402\n",
      "2319/2319 [==============================] - 15s 6ms/sample - loss: 4.2716 - acc: 0.7216 - val_loss: 4.2754 - val_acc: 0.7220\n",
      "Epoch 5/30\n",
      "2300/2319 [============================>.] - ETA: 0s - loss: 4.2827 - acc: 0.7215\n",
      "Epoch 00005: val_acc did not improve from 0.72402\n",
      "2319/2319 [==============================] - 15s 6ms/sample - loss: 4.2775 - acc: 0.7219 - val_loss: 4.2754 - val_acc: 0.7220\n",
      "Epoch 6/30\n",
      "2300/2319 [============================>.] - ETA: 0s - loss: 4.2694 - acc: 0.7224\n",
      "Epoch 00006: val_acc did not improve from 0.72402\n",
      "2319/2319 [==============================] - 14s 6ms/sample - loss: 4.2775 - acc: 0.7219 - val_loss: 4.2754 - val_acc: 0.7220\n",
      "Epoch 7/30\n",
      "2300/2319 [============================>.] - ETA: 0s - loss: 4.2660 - acc: 0.7226\n",
      "Epoch 00007: val_acc did not improve from 0.72402\n",
      "2319/2319 [==============================] - 14s 6ms/sample - loss: 4.2775 - acc: 0.7219 - val_loss: 4.2754 - val_acc: 0.7220\n",
      "Epoch 8/30\n",
      "2300/2319 [============================>.] - ETA: 0s - loss: 4.2761 - acc: 0.7220\n",
      "Epoch 00008: val_acc did not improve from 0.72402\n",
      "2319/2319 [==============================] - 15s 6ms/sample - loss: 4.2775 - acc: 0.7219 - val_loss: 4.2754 - val_acc: 0.7220\n",
      "Epoch 9/30\n",
      "2300/2319 [============================>.] - ETA: 0s - loss: 4.2776 - acc: 0.7217\n",
      "Epoch 00009: val_acc did not improve from 0.72402\n",
      "2319/2319 [==============================] - 14s 6ms/sample - loss: 4.2791 - acc: 0.7216 - val_loss: 4.2754 - val_acc: 0.7220\n",
      "Epoch 10/30\n",
      "2300/2319 [============================>.] - ETA: 0s - loss: 4.2761 - acc: 0.7220\n",
      "Epoch 00010: val_acc did not improve from 0.72402\n",
      "2319/2319 [==============================] - 14s 6ms/sample - loss: 4.2775 - acc: 0.7219 - val_loss: 4.2754 - val_acc: 0.7220\n",
      "Epoch 11/30\n",
      "2300/2319 [============================>.] - ETA: 0s - loss: 4.2761 - acc: 0.7220\n",
      "Epoch 00011: val_acc did not improve from 0.72402\n",
      "2319/2319 [==============================] - 14s 6ms/sample - loss: 4.2775 - acc: 0.7219 - val_loss: 4.2754 - val_acc: 0.7220\n",
      "Epoch 12/30\n",
      "2300/2319 [============================>.] - ETA: 0s - loss: 4.2794 - acc: 0.7217\n",
      "Epoch 00012: val_acc did not improve from 0.72402\n",
      "2319/2319 [==============================] - 14s 6ms/sample - loss: 4.2775 - acc: 0.7219 - val_loss: 4.2754 - val_acc: 0.7220\n",
      "Epoch 13/30\n",
      "2300/2319 [============================>.] - ETA: 0s - loss: 4.2794 - acc: 0.7217\n",
      "Epoch 00013: val_acc did not improve from 0.72402\n",
      "2319/2319 [==============================] - 15s 6ms/sample - loss: 4.2775 - acc: 0.7219 - val_loss: 4.2754 - val_acc: 0.7220\n",
      "Epoch 14/30\n",
      "2300/2319 [============================>.] - ETA: 0s - loss: 4.2794 - acc: 0.7217\n",
      "Epoch 00014: val_acc did not improve from 0.72402\n",
      "2319/2319 [==============================] - 15s 6ms/sample - loss: 4.2775 - acc: 0.7219 - val_loss: 4.2754 - val_acc: 0.7220\n",
      "Epoch 15/30\n",
      "2300/2319 [============================>.] - ETA: 0s - loss: 4.2794 - acc: 0.7217\n",
      "Epoch 00015: val_acc did not improve from 0.72402\n",
      "2319/2319 [==============================] - 15s 6ms/sample - loss: 4.2775 - acc: 0.7219 - val_loss: 4.2754 - val_acc: 0.7220\n",
      "Epoch 16/30\n",
      "2300/2319 [============================>.] - ETA: 0s - loss: 4.2761 - acc: 0.7220\n",
      "Epoch 00016: val_acc did not improve from 0.72402\n",
      "2319/2319 [==============================] - 15s 6ms/sample - loss: 4.2775 - acc: 0.7219 - val_loss: 4.2754 - val_acc: 0.7220\n",
      "Epoch 17/30\n",
      "2300/2319 [============================>.] - ETA: 0s - loss: 4.2761 - acc: 0.7220\n",
      "Epoch 00017: val_acc did not improve from 0.72402\n",
      "2319/2319 [==============================] - 15s 6ms/sample - loss: 4.2775 - acc: 0.7219 - val_loss: 4.2754 - val_acc: 0.7220\n",
      "Epoch 18/30\n",
      "2300/2319 [============================>.] - ETA: 0s - loss: 4.2727 - acc: 0.7222\n",
      "Epoch 00018: val_acc did not improve from 0.72402\n",
      "2319/2319 [==============================] - 14s 6ms/sample - loss: 4.2775 - acc: 0.7219 - val_loss: 4.2754 - val_acc: 0.7220\n",
      "Epoch 19/30\n",
      "2300/2319 [============================>.] - ETA: 0s - loss: 4.2761 - acc: 0.7220\n",
      "Epoch 00019: val_acc did not improve from 0.72402\n",
      "2319/2319 [==============================] - 14s 6ms/sample - loss: 4.2775 - acc: 0.7219 - val_loss: 4.2754 - val_acc: 0.7220\n",
      "Epoch 20/30\n",
      "2300/2319 [============================>.] - ETA: 0s - loss: 4.2894 - acc: 0.7211\n",
      "Epoch 00020: val_acc did not improve from 0.72402\n",
      "2319/2319 [==============================] - 14s 6ms/sample - loss: 4.2775 - acc: 0.7219 - val_loss: 4.2754 - val_acc: 0.7220\n",
      "Epoch 21/30\n",
      "2300/2319 [============================>.] - ETA: 0s - loss: 4.2794 - acc: 0.7217\n",
      "Epoch 00021: val_acc did not improve from 0.72402\n",
      "2319/2319 [==============================] - 14s 6ms/sample - loss: 4.2775 - acc: 0.7219 - val_loss: 4.2754 - val_acc: 0.7220\n",
      "Epoch 22/30\n",
      "2300/2319 [============================>.] - ETA: 0s - loss: 4.2794 - acc: 0.7217\n",
      "Epoch 00022: val_acc did not improve from 0.72402\n",
      "2319/2319 [==============================] - 15s 6ms/sample - loss: 4.2775 - acc: 0.7219 - val_loss: 4.2754 - val_acc: 0.7220\n",
      "Epoch 23/30\n",
      "2300/2319 [============================>.] - ETA: 0s - loss: 4.2660 - acc: 0.7226\n",
      "Epoch 00023: val_acc did not improve from 0.72402\n",
      "2319/2319 [==============================] - 15s 6ms/sample - loss: 4.2775 - acc: 0.7219 - val_loss: 4.2754 - val_acc: 0.7220\n",
      "Epoch 24/30\n",
      "2300/2319 [============================>.] - ETA: 0s - loss: 4.2761 - acc: 0.7220\n",
      "Epoch 00024: val_acc did not improve from 0.72402\n",
      "2319/2319 [==============================] - 15s 7ms/sample - loss: 4.2775 - acc: 0.7219 - val_loss: 4.2754 - val_acc: 0.7220\n",
      "Epoch 25/30\n",
      "2300/2319 [============================>.] - ETA: 0s - loss: 4.2627 - acc: 0.7228\n",
      "Epoch 00025: val_acc did not improve from 0.72402\n",
      "2319/2319 [==============================] - 15s 6ms/sample - loss: 4.2775 - acc: 0.7219 - val_loss: 4.2754 - val_acc: 0.7220\n",
      "Epoch 26/30\n",
      "2300/2319 [============================>.] - ETA: 0s - loss: 4.2861 - acc: 0.7213\n",
      "Epoch 00026: val_acc did not improve from 0.72402\n",
      "2319/2319 [==============================] - 14s 6ms/sample - loss: 4.2775 - acc: 0.7219 - val_loss: 4.2754 - val_acc: 0.7220\n",
      "Epoch 27/30\n",
      "2300/2319 [============================>.] - ETA: 0s - loss: 4.2794 - acc: 0.7217\n",
      "Epoch 00027: val_acc did not improve from 0.72402\n",
      "2319/2319 [==============================] - 15s 6ms/sample - loss: 4.2775 - acc: 0.7219 - val_loss: 4.2754 - val_acc: 0.7220\n",
      "Epoch 28/30\n",
      "2300/2319 [============================>.] - ETA: 0s - loss: 4.2761 - acc: 0.7220\n",
      "Epoch 00028: val_acc did not improve from 0.72402\n",
      "2319/2319 [==============================] - 15s 7ms/sample - loss: 4.2775 - acc: 0.7219 - val_loss: 4.2754 - val_acc: 0.7220\n",
      "Epoch 29/30\n",
      "2300/2319 [============================>.] - ETA: 0s - loss: 4.2593 - acc: 0.7230\n",
      "Epoch 00029: val_acc did not improve from 0.72402\n",
      "2319/2319 [==============================] - 15s 6ms/sample - loss: 4.2775 - acc: 0.7219 - val_loss: 4.2754 - val_acc: 0.7220\n",
      "Epoch 30/30\n",
      "2300/2319 [============================>.] - ETA: 0s - loss: 4.2827 - acc: 0.7215\n",
      "Epoch 00030: val_acc did not improve from 0.72402\n",
      "2319/2319 [==============================] - 15s 7ms/sample - loss: 4.2775 - acc: 0.7219 - val_loss: 4.2754 - val_acc: 0.7220\n"
     ]
    }
   ],
   "source": [
    "from tensorflow.keras.optimizers import Adam\n",
    "\n",
    "INIT_LR = 1e-3\n",
    "EPOCHS = 30\n",
    "\n",
    "opt = Adam(lr=INIT_LR, decay=INIT_LR / EPOCHS)\n",
    "\n",
    "model.compile(loss=\"binary_crossentropy\", optimizer=opt, metrics=[\"accuracy\"])\n",
    "\n",
    "from keras.callbacks import ModelCheckpoint\n",
    "\n",
    "checkpoint = ModelCheckpoint('XCeption.h5', verbose=1, monitor='val_acc', save_best_only=True, mode='auto') \n",
    "\n",
    "history = model.fit(train_features_x, train_labels_x,\n",
    "                    epochs=30,\n",
    "                    batch_size=20,\n",
    "                    validation_data=(validation_features_x, validation_labels_x),\n",
    "                    callbacks=[checkpoint])"
   ]
  },
  {
   "cell_type": "markdown",
   "metadata": {},
   "source": [
    "### ResNet"
   ]
  },
  {
   "cell_type": "code",
   "execution_count": 35,
   "metadata": {
    "ExecuteTime": {
     "end_time": "2019-12-18T01:37:59.154795Z",
     "start_time": "2019-12-18T01:37:58.792930Z"
    }
   },
   "outputs": [
    {
     "name": "stdout",
     "output_type": "stream",
     "text": [
      "Found 2319 images belonging to 4 classes.\n",
      "Found 991 images belonging to 4 classes.\n"
     ]
    }
   ],
   "source": [
    "datagen = ImageDataGenerator(\n",
    "    rotation_range=30, width_shift_range=0.15,\n",
    "    height_shift_range=0.15, shear_range=0.15, \n",
    "    zoom_range=0.2,horizontal_flip=True, \n",
    "    fill_mode=\"nearest\", validation_split=0.3)\n",
    "batch_size = 32\n",
    "\n",
    "train_generator = datagen.flow_from_directory(\n",
    "    base_dir,\n",
    "    target_size=(224, 224),\n",
    "    batch_size=batch_size,\n",
    "    class_mode='categorical',\n",
    "    subset='training')\n",
    "\n",
    "val_generator = datagen.flow_from_directory(\n",
    "    base_dir,\n",
    "    target_size=(224, 224),\n",
    "    batch_size=batch_size,\n",
    "    class_mode='categorical',\n",
    "    subset='validation')"
   ]
  },
  {
   "cell_type": "code",
   "execution_count": 36,
   "metadata": {
    "ExecuteTime": {
     "end_time": "2019-12-18T01:37:59.337104Z",
     "start_time": "2019-12-18T01:37:59.253531Z"
    }
   },
   "outputs": [],
   "source": [
    "from tensorflow.keras.applications.resnet50 import ResNet50, preprocess_input"
   ]
  },
  {
   "cell_type": "code",
   "execution_count": 37,
   "metadata": {
    "ExecuteTime": {
     "end_time": "2019-12-18T01:38:06.454577Z",
     "start_time": "2019-12-18T01:37:59.433514Z"
    }
   },
   "outputs": [
    {
     "name": "stderr",
     "output_type": "stream",
     "text": [
      "C:\\Users\\Justin\\Anaconda3\\envs\\tf-gpu\\lib\\site-packages\\keras_applications\\resnet50.py:265: UserWarning: The output shape of `ResNet50(include_top=False)` has been changed since Keras 2.2.0.\n",
      "  warnings.warn('The output shape of `ResNet50(include_top=False)` '\n"
     ]
    }
   ],
   "source": [
    "resnet_base = ResNet50(weights='imagenet',\n",
    "                         include_top=False,\n",
    "                         input_shape=(224, 224, 3))"
   ]
  },
  {
   "cell_type": "code",
   "execution_count": 40,
   "metadata": {
    "ExecuteTime": {
     "end_time": "2019-12-18T02:31:27.300438Z",
     "start_time": "2019-12-18T02:31:27.295436Z"
    }
   },
   "outputs": [],
   "source": [
    "def extract_features_resnet(trainorval, sample_count):\n",
    "    features = np.zeros(shape=(sample_count, 7, 7, 2048))\n",
    "    labels = np.zeros(shape=(sample_count, 4))\n",
    "    if trainorval==\"training\":\n",
    "        generator = train_generator\n",
    "    else:\n",
    "        generator = val_generator\n",
    "    i = 0\n",
    "    for inputs_batch, labels_batch in generator:\n",
    "        features_batch = resnet_base.predict(preprocess_input(inputs_batch))\n",
    "        try:\n",
    "            features[i * batch_size : (i + 1) * batch_size] = features_batch\n",
    "            labels[i * batch_size : (i + 1) * batch_size] = labels_batch\n",
    "        except ValueError:\n",
    "            break\n",
    "        i += 1\n",
    "        if i * batch_size >= sample_count:\n",
    "            break\n",
    "    return features, labels"
   ]
  },
  {
   "cell_type": "code",
   "execution_count": 52,
   "metadata": {
    "ExecuteTime": {
     "end_time": "2019-12-18T02:51:48.522294Z",
     "start_time": "2019-12-18T02:49:10.614430Z"
    }
   },
   "outputs": [],
   "source": [
    "train_features_res, train_labels_res = extract_features_resnet('training', 2319)\n",
    "validation_features_res, validation_labels_res = extract_features_resnet('validation', 991)\n",
    "\n",
    "train_features_res = np.reshape(train_features_res, (2319, 7 * 7 * 2048))\n",
    "validation_features_res = np.reshape(validation_features_res, (991, 7 * 7 * 2048))"
   ]
  },
  {
   "cell_type": "code",
   "execution_count": 60,
   "metadata": {
    "ExecuteTime": {
     "end_time": "2019-12-18T03:28:00.058495Z",
     "start_time": "2019-12-18T03:27:59.435102Z"
    }
   },
   "outputs": [],
   "source": [
    "model = models.Sequential()\n",
    "model.add(layers.Dense(256, activation='relu', input_dim=7 * 7 * 2048))\n",
    "model.add(layers.Dropout(0.5))\n",
    "model.add(layers.Dense(128, activation='relu'))\n",
    "model.add(layers.Dropout(0.4))  #Removing 50% of the weights!\n",
    "model.add(layers.Dense(4, activation='softmax'))"
   ]
  },
  {
   "cell_type": "code",
   "execution_count": 61,
   "metadata": {
    "ExecuteTime": {
     "end_time": "2019-12-18T03:33:10.338797Z",
     "start_time": "2019-12-18T03:28:00.331306Z"
    },
    "scrolled": true
   },
   "outputs": [
    {
     "name": "stdout",
     "output_type": "stream",
     "text": [
      "Train on 2319 samples, validate on 991 samples\n",
      "Epoch 1/30\n",
      "2304/2319 [============================>.] - ETA: 0s - loss: 0.6092 - acc: 0.9774\n",
      "Epoch 00001: val_acc improved from -inf to 0.57820, saving model to ResNet.h5\n",
      "2319/2319 [==============================] - 18s 8ms/sample - loss: 0.6071 - acc: 0.9776 - val_loss: 6.4868 - val_acc: 0.5782\n",
      "Epoch 2/30\n",
      "2304/2319 [============================>.] - ETA: 0s - loss: 0.6308 - acc: 0.9766\n",
      "Epoch 00002: val_acc did not improve from 0.57820\n",
      "2319/2319 [==============================] - 10s 4ms/sample - loss: 0.6286 - acc: 0.9767 - val_loss: 6.4868 - val_acc: 0.5782\n",
      "Epoch 3/30\n",
      "2304/2319 [============================>.] - ETA: 0s - loss: 0.6288 - acc: 0.9768\n",
      "Epoch 00003: val_acc did not improve from 0.57820\n",
      "2319/2319 [==============================] - 10s 4ms/sample - loss: 0.6266 - acc: 0.9769 - val_loss: 6.4868 - val_acc: 0.5782\n",
      "Epoch 4/30\n",
      "2304/2319 [============================>.] - ETA: 0s - loss: 0.6224 - acc: 0.9772\n",
      "Epoch 00004: val_acc did not improve from 0.57820\n",
      "2319/2319 [==============================] - 10s 4ms/sample - loss: 0.6266 - acc: 0.9769 - val_loss: 6.4868 - val_acc: 0.5782\n",
      "Epoch 5/30\n",
      "2304/2319 [============================>.] - ETA: 0s - loss: 0.6256 - acc: 0.9770\n",
      "Epoch 00005: val_acc did not improve from 0.57820\n",
      "2319/2319 [==============================] - 10s 4ms/sample - loss: 0.6266 - acc: 0.9769 - val_loss: 6.4868 - val_acc: 0.5782\n",
      "Epoch 6/30\n",
      "2304/2319 [============================>.] - ETA: 0s - loss: 0.6246 - acc: 0.9770\n",
      "Epoch 00006: val_acc did not improve from 0.57820\n",
      "2319/2319 [==============================] - 10s 4ms/sample - loss: 0.6256 - acc: 0.9769 - val_loss: 6.4868 - val_acc: 0.5782\n",
      "Epoch 7/30\n",
      "2304/2319 [============================>.] - ETA: 0s - loss: 0.6256 - acc: 0.9770\n",
      "Epoch 00007: val_acc did not improve from 0.57820\n",
      "2319/2319 [==============================] - 10s 4ms/sample - loss: 0.6266 - acc: 0.9769 - val_loss: 6.4868 - val_acc: 0.5782\n",
      "Epoch 8/30\n",
      "2304/2319 [============================>.] - ETA: 0s - loss: 0.6288 - acc: 0.9768\n",
      "Epoch 00008: val_acc did not improve from 0.57820\n",
      "2319/2319 [==============================] - 10s 4ms/sample - loss: 0.6266 - acc: 0.9769 - val_loss: 6.4868 - val_acc: 0.5782\n",
      "Epoch 9/30\n",
      "2304/2319 [============================>.] - ETA: 0s - loss: 0.6192 - acc: 0.9774\n",
      "Epoch 00009: val_acc did not improve from 0.57820\n",
      "2319/2319 [==============================] - 10s 4ms/sample - loss: 0.6266 - acc: 0.9769 - val_loss: 6.4868 - val_acc: 0.5782\n",
      "Epoch 10/30\n",
      "2304/2319 [============================>.] - ETA: 0s - loss: 0.6288 - acc: 0.9768\n",
      "Epoch 00010: val_acc did not improve from 0.57820\n",
      "2319/2319 [==============================] - 10s 4ms/sample - loss: 0.6266 - acc: 0.9769 - val_loss: 6.4868 - val_acc: 0.5782\n",
      "Epoch 11/30\n",
      "2304/2319 [============================>.] - ETA: 0s - loss: 0.6288 - acc: 0.9768\n",
      "Epoch 00011: val_acc did not improve from 0.57820\n",
      "2319/2319 [==============================] - 10s 4ms/sample - loss: 0.6266 - acc: 0.9769 - val_loss: 6.4868 - val_acc: 0.5782\n",
      "Epoch 12/30\n",
      "2304/2319 [============================>.] - ETA: 0s - loss: 0.6256 - acc: 0.9770\n",
      "Epoch 00012: val_acc did not improve from 0.57820\n",
      "2319/2319 [==============================] - 10s 4ms/sample - loss: 0.6266 - acc: 0.9769 - val_loss: 6.4868 - val_acc: 0.5782\n",
      "Epoch 13/30\n",
      "2304/2319 [============================>.] - ETA: 0s - loss: 0.6256 - acc: 0.9770\n",
      "Epoch 00013: val_acc did not improve from 0.57820\n",
      "2319/2319 [==============================] - 10s 4ms/sample - loss: 0.6266 - acc: 0.9769 - val_loss: 6.4868 - val_acc: 0.5782\n",
      "Epoch 14/30\n",
      "2304/2319 [============================>.] - ETA: 0s - loss: 0.6224 - acc: 0.9772\n",
      "Epoch 00014: val_acc did not improve from 0.57820\n",
      "2319/2319 [==============================] - 10s 4ms/sample - loss: 0.6266 - acc: 0.9769 - val_loss: 6.4868 - val_acc: 0.5782\n",
      "Epoch 15/30\n",
      "2304/2319 [============================>.] - ETA: 0s - loss: 0.6288 - acc: 0.9768\n",
      "Epoch 00015: val_acc did not improve from 0.57820\n",
      "2319/2319 [==============================] - 10s 4ms/sample - loss: 0.6266 - acc: 0.9769 - val_loss: 6.4868 - val_acc: 0.5782\n",
      "Epoch 16/30\n",
      "2304/2319 [============================>.] - ETA: 0s - loss: 0.6288 - acc: 0.9768\n",
      "Epoch 00016: val_acc did not improve from 0.57820\n",
      "2319/2319 [==============================] - 10s 4ms/sample - loss: 0.6266 - acc: 0.9769 - val_loss: 6.4868 - val_acc: 0.5782\n",
      "Epoch 17/30\n",
      "2304/2319 [============================>.] - ETA: 0s - loss: 0.6256 - acc: 0.9770\n",
      "Epoch 00017: val_acc did not improve from 0.57820\n",
      "2319/2319 [==============================] - 10s 4ms/sample - loss: 0.6266 - acc: 0.9769 - val_loss: 6.4868 - val_acc: 0.5782\n",
      "Epoch 18/30\n",
      "2304/2319 [============================>.] - ETA: 0s - loss: 0.6288 - acc: 0.9768\n",
      "Epoch 00018: val_acc did not improve from 0.57820\n",
      "2319/2319 [==============================] - 10s 4ms/sample - loss: 0.6266 - acc: 0.9769 - val_loss: 6.4868 - val_acc: 0.5782\n",
      "Epoch 19/30\n",
      "2304/2319 [============================>.] - ETA: 0s - loss: 0.6224 - acc: 0.9772\n",
      "Epoch 00019: val_acc did not improve from 0.57820\n",
      "2319/2319 [==============================] - 10s 4ms/sample - loss: 0.6266 - acc: 0.9769 - val_loss: 6.4868 - val_acc: 0.5782\n",
      "Epoch 20/30\n",
      "2304/2319 [============================>.] - ETA: 0s - loss: 0.6289 - acc: 0.9768\n",
      "Epoch 00020: val_acc did not improve from 0.57820\n",
      "2319/2319 [==============================] - 9s 4ms/sample - loss: 0.6266 - acc: 0.9769 - val_loss: 6.4868 - val_acc: 0.5782\n",
      "Epoch 21/30\n",
      "2304/2319 [============================>.] - ETA: 0s - loss: 0.6256 - acc: 0.9770\n",
      "Epoch 00021: val_acc did not improve from 0.57820\n",
      "2319/2319 [==============================] - 10s 4ms/sample - loss: 0.6266 - acc: 0.9769 - val_loss: 6.4868 - val_acc: 0.5782\n",
      "Epoch 22/30\n",
      "2304/2319 [============================>.] - ETA: 0s - loss: 0.6288 - acc: 0.9768\n",
      "Epoch 00022: val_acc did not improve from 0.57820\n",
      "2319/2319 [==============================] - 10s 4ms/sample - loss: 0.6266 - acc: 0.9769 - val_loss: 6.4868 - val_acc: 0.5782\n",
      "Epoch 23/30\n",
      "2304/2319 [============================>.] - ETA: 0s - loss: 0.6256 - acc: 0.9770\n",
      "Epoch 00023: val_acc did not improve from 0.57820\n",
      "2319/2319 [==============================] - 9s 4ms/sample - loss: 0.6266 - acc: 0.9769 - val_loss: 6.4868 - val_acc: 0.5782\n",
      "Epoch 24/30\n",
      "2304/2319 [============================>.] - ETA: 0s - loss: 0.6059 - acc: 0.9781\n",
      "Epoch 00024: val_acc improved from 0.57820 to 0.72200, saving model to ResNet.h5\n",
      "2319/2319 [==============================] - 11s 5ms/sample - loss: 0.6038 - acc: 0.9782 - val_loss: 4.2754 - val_acc: 0.7220\n",
      "Epoch 25/30\n",
      "2304/2319 [============================>.] - ETA: 0s - loss: 0.6032 - acc: 0.9783\n",
      "Epoch 00025: val_acc did not improve from 0.72200\n",
      "2319/2319 [==============================] - 10s 4ms/sample - loss: 0.6012 - acc: 0.9784 - val_loss: 6.4868 - val_acc: 0.5782\n",
      "Epoch 26/30\n",
      "2304/2319 [============================>.] - ETA: 0s - loss: 0.6255 - acc: 0.9770\n",
      "Epoch 00026: val_acc did not improve from 0.72200\n",
      "2319/2319 [==============================] - 10s 4ms/sample - loss: 0.6233 - acc: 0.9771 - val_loss: 6.4868 - val_acc: 0.5782\n",
      "Epoch 27/30\n",
      "2304/2319 [============================>.] - ETA: 0s - loss: 0.5820 - acc: 0.9798\n",
      "Epoch 00027: val_acc did not improve from 0.72200\n",
      "2319/2319 [==============================] - 10s 4ms/sample - loss: 0.5801 - acc: 0.9799 - val_loss: 4.8507 - val_acc: 0.6826\n",
      "Epoch 28/30\n",
      "2304/2319 [============================>.] - ETA: 0s - loss: 0.5000 - acc: 0.9850\n",
      "Epoch 00028: val_acc did not improve from 0.72200\n",
      "2319/2319 [==============================] - 10s 4ms/sample - loss: 0.4986 - acc: 0.9851 - val_loss: 4.2754 - val_acc: 0.7220\n",
      "Epoch 29/30\n",
      "2304/2319 [============================>.] - ETA: 0s - loss: 0.4953 - acc: 0.9855\n",
      "Epoch 00029: val_acc did not improve from 0.72200\n",
      "2319/2319 [==============================] - 10s 4ms/sample - loss: 0.4940 - acc: 0.9856 - val_loss: 4.2754 - val_acc: 0.7220\n",
      "Epoch 30/30\n",
      "2304/2319 [============================>.] - ETA: 0s - loss: 0.4927 - acc: 0.9855\n",
      "Epoch 00030: val_acc did not improve from 0.72200\n",
      "2319/2319 [==============================] - 10s 4ms/sample - loss: 0.4913 - acc: 0.9856 - val_loss: 4.2754 - val_acc: 0.7220\n"
     ]
    }
   ],
   "source": [
    "from tensorflow.keras.optimizers import Adam\n",
    "\n",
    "INIT_LR = 1e-3\n",
    "EPOCHS = 30\n",
    "\n",
    "opt = Adam(lr=INIT_LR, decay=INIT_LR / EPOCHS)\n",
    "\n",
    "model.compile(loss=\"binary_crossentropy\", optimizer=opt, metrics=[\"accuracy\"])\n",
    "\n",
    "from keras.callbacks import ModelCheckpoint\n",
    "\n",
    "checkpoint = ModelCheckpoint('ResNet.h5', verbose=1, monitor='val_acc', save_best_only=True, mode='auto') \n",
    "\n",
    "\n",
    "history = model.fit(train_features_res, train_labels_res,\n",
    "                    epochs=30,\n",
    "                    batch_size=batch_size,\n",
    "                    validation_data=(validation_features_res, validation_labels_res),\n",
    "                    callbacks=[checkpoint])"
   ]
  },
  {
   "cell_type": "markdown",
   "metadata": {},
   "source": [
    "### 5Conv2Dense"
   ]
  },
  {
   "cell_type": "code",
   "execution_count": 3,
   "metadata": {
    "ExecuteTime": {
     "end_time": "2019-12-19T08:11:16.047454Z",
     "start_time": "2019-12-19T08:11:16.043913Z"
    }
   },
   "outputs": [],
   "source": [
    "import numpy as np\n",
    "import pickle\n",
    "import cv2\n",
    "from os import listdir\n",
    "from sklearn.preprocessing import LabelBinarizer\n",
    "from keras.models import Sequential\n",
    "from keras.layers.normalization import BatchNormalization\n",
    "from keras.layers.convolutional import Conv2D\n",
    "from keras.layers.convolutional import MaxPooling2D\n",
    "from keras.layers.core import Activation, Flatten, Dropout, Dense\n",
    "from keras import backend as K\n",
    "from keras.preprocessing.image import ImageDataGenerator\n",
    "from keras.optimizers import Adam\n",
    "from keras.preprocessing import image\n",
    "from keras.preprocessing.image import img_to_array, load_img\n",
    "from sklearn.preprocessing import MultiLabelBinarizer\n",
    "from sklearn.model_selection import train_test_split\n",
    "import matplotlib.pyplot as plt"
   ]
  },
  {
   "cell_type": "code",
   "execution_count": 2,
   "metadata": {
    "ExecuteTime": {
     "end_time": "2019-12-11T19:15:45.099084Z",
     "start_time": "2019-12-11T19:15:45.096042Z"
    }
   },
   "outputs": [],
   "source": [
    "EPOCHS = 30\n",
    "INIT_LR = 1e-3\n",
    "BS = 16\n",
    "default_image_size = tuple((256, 256))\n",
    "image_size = 0\n",
    "directory_root = 'D://Users/Public/Documents/MSDS/Data/rice-diseases-image-dataset/LabelledRice/BGRemoved'\n",
    "width=256\n",
    "height=256\n",
    "depth=3"
   ]
  },
  {
   "cell_type": "code",
   "execution_count": 3,
   "metadata": {
    "ExecuteTime": {
     "end_time": "2019-12-11T19:15:45.868254Z",
     "start_time": "2019-12-11T19:15:45.863268Z"
    }
   },
   "outputs": [],
   "source": [
    "def convert_image_to_array(image_dir):\n",
    "    try:\n",
    "        image = cv2.imread(image_dir)\n",
    "        if image is not None :\n",
    "            image = cv2.resize(image, default_image_size)   \n",
    "            return img_to_array(image)\n",
    "        else :\n",
    "            return np.array([])\n",
    "    except Exception as e:\n",
    "        print(f\"Error : {e}\")\n",
    "        return None"
   ]
  },
  {
   "cell_type": "code",
   "execution_count": 4,
   "metadata": {
    "ExecuteTime": {
     "end_time": "2019-12-11T19:18:43.070358Z",
     "start_time": "2019-12-11T19:15:46.501234Z"
    }
   },
   "outputs": [
    {
     "name": "stdout",
     "output_type": "stream",
     "text": [
      "[INFO] Loading images ...\n",
      "[INFO] Image loading completed\n"
     ]
    }
   ],
   "source": [
    "image_list, label_list = [], []\n",
    "try:\n",
    "    print(\"[INFO] Loading images ...\")\n",
    "    root_dir = listdir(directory_root)\n",
    "    for directory in root_dir :\n",
    "        # remove .DS_Store from list\n",
    "        if directory == \".DS_Store\" :\n",
    "            root_dir.remove(directory)\n",
    "\n",
    "    for disease_folder in root_dir :\n",
    "        plant_disease_image_list = listdir(f\"{directory_root}/{disease_folder}\")\n",
    "        \n",
    "        for image in plant_disease_image_list:\n",
    "            image_directory = f\"{directory_root}/{disease_folder}/{image}\"\n",
    "            if image_directory.endswith(\".jpg\") == True or image_directory.endswith(\".JPG\") == True:\n",
    "                image_list.append(convert_image_to_array(image_directory))\n",
    "                label_list.append(disease_folder)\n",
    "    print(\"[INFO] Image loading completed\")  \n",
    "except Exception as e:\n",
    "    print(f\"Error : {e}\")"
   ]
  },
  {
   "cell_type": "code",
   "execution_count": 5,
   "metadata": {
    "ExecuteTime": {
     "end_time": "2019-12-11T19:18:45.552496Z",
     "start_time": "2019-12-11T19:18:45.549238Z"
    }
   },
   "outputs": [
    {
     "name": "stdout",
     "output_type": "stream",
     "text": [
      "3310\n"
     ]
    }
   ],
   "source": [
    "image_size = len(image_list)\n",
    "print(image_size)"
   ]
  },
  {
   "cell_type": "code",
   "execution_count": 6,
   "metadata": {
    "ExecuteTime": {
     "end_time": "2019-12-11T19:18:47.982309Z",
     "start_time": "2019-12-11T19:18:47.963462Z"
    }
   },
   "outputs": [],
   "source": [
    "label_binarizer = LabelBinarizer()\n",
    "image_labels = label_binarizer.fit_transform(label_list)\n",
    "pickle.dump(label_binarizer,open('label_transform.pkl', 'wb'))\n",
    "n_classes = len(label_binarizer.classes_)"
   ]
  },
  {
   "cell_type": "code",
   "execution_count": 7,
   "metadata": {
    "ExecuteTime": {
     "end_time": "2019-12-11T19:18:50.758548Z",
     "start_time": "2019-12-11T19:18:50.755288Z"
    }
   },
   "outputs": [
    {
     "name": "stdout",
     "output_type": "stream",
     "text": [
      "['BrownSpot' 'Healthy' 'Hispa' 'LeafBlast']\n"
     ]
    }
   ],
   "source": [
    "print(label_binarizer.classes_)"
   ]
  },
  {
   "cell_type": "code",
   "execution_count": 8,
   "metadata": {
    "ExecuteTime": {
     "end_time": "2019-12-11T19:19:00.711405Z",
     "start_time": "2019-12-11T19:18:53.230119Z"
    }
   },
   "outputs": [],
   "source": [
    "np_image_list = np.array(image_list, dtype=np.float16) / 225.0"
   ]
  },
  {
   "cell_type": "code",
   "execution_count": 9,
   "metadata": {
    "ExecuteTime": {
     "end_time": "2019-12-11T19:19:05.068392Z",
     "start_time": "2019-12-11T19:19:03.967235Z"
    }
   },
   "outputs": [
    {
     "name": "stdout",
     "output_type": "stream",
     "text": [
      "[INFO] Spliting data to train, test\n"
     ]
    }
   ],
   "source": [
    "print(\"[INFO] Spliting data to train, test\")\n",
    "x_train, x_test, y_train, y_test = train_test_split(np_image_list, image_labels, test_size=0.30, random_state = 42) "
   ]
  },
  {
   "cell_type": "code",
   "execution_count": 10,
   "metadata": {
    "ExecuteTime": {
     "end_time": "2019-12-11T19:19:09.314173Z",
     "start_time": "2019-12-11T19:19:08.972810Z"
    }
   },
   "outputs": [],
   "source": [
    "aug = ImageDataGenerator(\n",
    "    rotation_range=30, width_shift_range=0.15,\n",
    "    height_shift_range=0.15, shear_range=0.15, \n",
    "    zoom_range=0.2,horizontal_flip=True, \n",
    "    fill_mode=\"nearest\")"
   ]
  },
  {
   "cell_type": "code",
   "execution_count": 11,
   "metadata": {
    "ExecuteTime": {
     "end_time": "2019-12-11T19:19:33.359424Z",
     "start_time": "2019-12-11T19:19:11.840937Z"
    }
   },
   "outputs": [],
   "source": [
    "model = Sequential()\n",
    "inputShape = (height, width, depth)\n",
    "chanDim = -1\n",
    "if K.image_data_format() == \"channels_first\":\n",
    "    inputShape = (depth, height, width)\n",
    "    chanDim = 1\n",
    "model.add(Conv2D(32, (3, 3), padding=\"same\",input_shape=inputShape))\n",
    "model.add(Activation(\"relu\"))\n",
    "model.add(BatchNormalization(axis=chanDim))\n",
    "model.add(MaxPooling2D(pool_size=(3, 3)))\n",
    "model.add(Dropout(0.25))\n",
    "model.add(Conv2D(64, (3, 3), padding=\"same\"))\n",
    "model.add(Activation(\"relu\"))\n",
    "model.add(BatchNormalization(axis=chanDim))\n",
    "model.add(Conv2D(64, (3, 3), padding=\"same\"))\n",
    "model.add(Activation(\"relu\"))\n",
    "model.add(BatchNormalization(axis=chanDim))\n",
    "model.add(MaxPooling2D(pool_size=(2, 2)))\n",
    "model.add(Dropout(0.25))\n",
    "model.add(Conv2D(128, (3, 3), padding=\"same\"))\n",
    "model.add(Activation(\"relu\"))\n",
    "model.add(BatchNormalization(axis=chanDim))\n",
    "model.add(Conv2D(128, (3, 3), padding=\"same\"))\n",
    "model.add(Activation(\"relu\"))\n",
    "model.add(BatchNormalization(axis=chanDim))\n",
    "model.add(MaxPooling2D(pool_size=(2, 2)))\n",
    "model.add(Dropout(0.25))\n",
    "model.add(Flatten())\n",
    "model.add(Dense(256))\n",
    "model.add(Activation(\"relu\"))\n",
    "model.add(BatchNormalization())\n",
    "model.add(Dropout(0.5))\n",
    "model.add(Dense(n_classes))\n",
    "model.add(Activation(\"softmax\"))"
   ]
  },
  {
   "cell_type": "code",
   "execution_count": 13,
   "metadata": {
    "ExecuteTime": {
     "end_time": "2019-12-11T18:09:04.787483Z",
     "start_time": "2019-12-11T18:09:04.778518Z"
    },
    "scrolled": false
   },
   "outputs": [
    {
     "name": "stdout",
     "output_type": "stream",
     "text": [
      "Model: \"sequential_1\"\n",
      "_________________________________________________________________\n",
      "Layer (type)                 Output Shape              Param #   \n",
      "=================================================================\n",
      "conv2d_1 (Conv2D)            (None, 256, 256, 32)      896       \n",
      "_________________________________________________________________\n",
      "activation_1 (Activation)    (None, 256, 256, 32)      0         \n",
      "_________________________________________________________________\n",
      "batch_normalization_1 (Batch (None, 256, 256, 32)      128       \n",
      "_________________________________________________________________\n",
      "max_pooling2d_1 (MaxPooling2 (None, 85, 85, 32)        0         \n",
      "_________________________________________________________________\n",
      "dropout_1 (Dropout)          (None, 85, 85, 32)        0         \n",
      "_________________________________________________________________\n",
      "conv2d_2 (Conv2D)            (None, 85, 85, 64)        18496     \n",
      "_________________________________________________________________\n",
      "activation_2 (Activation)    (None, 85, 85, 64)        0         \n",
      "_________________________________________________________________\n",
      "batch_normalization_2 (Batch (None, 85, 85, 64)        256       \n",
      "_________________________________________________________________\n",
      "conv2d_3 (Conv2D)            (None, 85, 85, 64)        36928     \n",
      "_________________________________________________________________\n",
      "activation_3 (Activation)    (None, 85, 85, 64)        0         \n",
      "_________________________________________________________________\n",
      "batch_normalization_3 (Batch (None, 85, 85, 64)        256       \n",
      "_________________________________________________________________\n",
      "max_pooling2d_2 (MaxPooling2 (None, 42, 42, 64)        0         \n",
      "_________________________________________________________________\n",
      "dropout_2 (Dropout)          (None, 42, 42, 64)        0         \n",
      "_________________________________________________________________\n",
      "conv2d_4 (Conv2D)            (None, 42, 42, 128)       73856     \n",
      "_________________________________________________________________\n",
      "activation_4 (Activation)    (None, 42, 42, 128)       0         \n",
      "_________________________________________________________________\n",
      "batch_normalization_4 (Batch (None, 42, 42, 128)       512       \n",
      "_________________________________________________________________\n",
      "conv2d_5 (Conv2D)            (None, 42, 42, 128)       147584    \n",
      "_________________________________________________________________\n",
      "activation_5 (Activation)    (None, 42, 42, 128)       0         \n",
      "_________________________________________________________________\n",
      "batch_normalization_5 (Batch (None, 42, 42, 128)       512       \n",
      "_________________________________________________________________\n",
      "max_pooling2d_3 (MaxPooling2 (None, 21, 21, 128)       0         \n",
      "_________________________________________________________________\n",
      "dropout_3 (Dropout)          (None, 21, 21, 128)       0         \n",
      "_________________________________________________________________\n",
      "flatten_1 (Flatten)          (None, 56448)             0         \n",
      "_________________________________________________________________\n",
      "dense_1 (Dense)              (None, 256)               14450944  \n",
      "_________________________________________________________________\n",
      "activation_6 (Activation)    (None, 256)               0         \n",
      "_________________________________________________________________\n",
      "batch_normalization_6 (Batch (None, 256)               1024      \n",
      "_________________________________________________________________\n",
      "dropout_4 (Dropout)          (None, 256)               0         \n",
      "_________________________________________________________________\n",
      "dense_2 (Dense)              (None, 4)                 1028      \n",
      "_________________________________________________________________\n",
      "activation_7 (Activation)    (None, 4)                 0         \n",
      "=================================================================\n",
      "Total params: 14,732,420\n",
      "Trainable params: 14,731,076\n",
      "Non-trainable params: 1,344\n",
      "_________________________________________________________________\n"
     ]
    }
   ],
   "source": [
    "model.summary()"
   ]
  },
  {
   "cell_type": "code",
   "execution_count": 12,
   "metadata": {
    "ExecuteTime": {
     "end_time": "2019-12-11T19:19:36.562519Z",
     "start_time": "2019-12-11T19:19:36.397626Z"
    }
   },
   "outputs": [
    {
     "name": "stdout",
     "output_type": "stream",
     "text": [
      "[INFO] training network...\n"
     ]
    }
   ],
   "source": [
    "opt = Adam(lr=INIT_LR, decay=INIT_LR / EPOCHS)\n",
    "# distribution\n",
    "model.compile(loss=\"binary_crossentropy\", optimizer=opt,metrics=[\"accuracy\"])\n",
    "# train the network\n",
    "print(\"[INFO] training network...\")"
   ]
  },
  {
   "cell_type": "code",
   "execution_count": 13,
   "metadata": {
    "ExecuteTime": {
     "end_time": "2019-12-11T19:19:39.170046Z",
     "start_time": "2019-12-11T19:19:39.109174Z"
    }
   },
   "outputs": [],
   "source": [
    "from keras.callbacks import ModelCheckpoint\n",
    "\n",
    "checkpoint = ModelCheckpoint('best_model_5conv2dense_woutBG.h5', verbose=1, monitor='val_accuracy', save_best_only=True, mode='auto') "
   ]
  },
  {
   "cell_type": "code",
   "execution_count": 14,
   "metadata": {
    "ExecuteTime": {
     "end_time": "2019-12-11T19:40:01.636755Z",
     "start_time": "2019-12-11T19:19:41.643475Z"
    }
   },
   "outputs": [
    {
     "name": "stdout",
     "output_type": "stream",
     "text": [
      "Epoch 1/30\n",
      "144/144 [==============================] - 52s 362ms/step - loss: 0.7391 - accuracy: 0.6913 - val_loss: 4.9252 - val_accuracy: 0.5901\n",
      "\n",
      "Epoch 00001: val_accuracy improved from -inf to 0.59013, saving model to best_model_5conv2dense_woutBG.h5\n",
      "Epoch 2/30\n",
      "144/144 [==============================] - 39s 273ms/step - loss: 0.6358 - accuracy: 0.7182 - val_loss: 2.4550 - val_accuracy: 0.6183\n",
      "\n",
      "Epoch 00002: val_accuracy improved from 0.59013 to 0.61833, saving model to best_model_5conv2dense_woutBG.h5\n",
      "Epoch 3/30\n",
      "144/144 [==============================] - 39s 273ms/step - loss: 0.5616 - accuracy: 0.7363 - val_loss: 0.5656 - val_accuracy: 0.7326\n",
      "\n",
      "Epoch 00003: val_accuracy improved from 0.61833 to 0.73263, saving model to best_model_5conv2dense_woutBG.h5\n",
      "Epoch 4/30\n",
      "144/144 [==============================] - 39s 274ms/step - loss: 0.5074 - accuracy: 0.7602 - val_loss: 0.9816 - val_accuracy: 0.6067\n",
      "\n",
      "Epoch 00004: val_accuracy did not improve from 0.73263\n",
      "Epoch 5/30\n",
      "144/144 [==============================] - 40s 274ms/step - loss: 0.4885 - accuracy: 0.7641 - val_loss: 0.4937 - val_accuracy: 0.7719\n",
      "\n",
      "Epoch 00005: val_accuracy improved from 0.73263 to 0.77190, saving model to best_model_5conv2dense_woutBG.h5\n",
      "Epoch 6/30\n",
      "144/144 [==============================] - 40s 275ms/step - loss: 0.4969 - accuracy: 0.7585 - val_loss: 1.0292 - val_accuracy: 0.6156\n",
      "\n",
      "Epoch 00006: val_accuracy did not improve from 0.77190\n",
      "Epoch 7/30\n",
      "144/144 [==============================] - 39s 274ms/step - loss: 0.4874 - accuracy: 0.7610 - val_loss: 0.6813 - val_accuracy: 0.6853\n",
      "\n",
      "Epoch 00007: val_accuracy did not improve from 0.77190\n",
      "Epoch 8/30\n",
      "144/144 [==============================] - 40s 275ms/step - loss: 0.4860 - accuracy: 0.7640 - val_loss: 1.6646 - val_accuracy: 0.6400\n",
      "\n",
      "Epoch 00008: val_accuracy did not improve from 0.77190\n",
      "Epoch 9/30\n",
      "144/144 [==============================] - 40s 275ms/step - loss: 0.4749 - accuracy: 0.7693 - val_loss: 1.1247 - val_accuracy: 0.6075\n",
      "\n",
      "Epoch 00009: val_accuracy did not improve from 0.77190\n",
      "Epoch 10/30\n",
      "144/144 [==============================] - 39s 274ms/step - loss: 0.4710 - accuracy: 0.7723 - val_loss: 1.2479 - val_accuracy: 0.6015\n",
      "\n",
      "Epoch 00010: val_accuracy did not improve from 0.77190\n",
      "Epoch 11/30\n",
      "144/144 [==============================] - 39s 274ms/step - loss: 0.4791 - accuracy: 0.7690 - val_loss: 6.1577 - val_accuracy: 0.5891\n",
      "\n",
      "Epoch 00011: val_accuracy did not improve from 0.77190\n",
      "Epoch 12/30\n",
      "144/144 [==============================] - 40s 275ms/step - loss: 0.4787 - accuracy: 0.7671 - val_loss: 1.6094 - val_accuracy: 0.5853\n",
      "\n",
      "Epoch 00012: val_accuracy did not improve from 0.77190\n",
      "Epoch 13/30\n",
      "144/144 [==============================] - 39s 274ms/step - loss: 0.5136 - accuracy: 0.7532 - val_loss: 1.1623 - val_accuracy: 0.6717\n",
      "\n",
      "Epoch 00013: val_accuracy did not improve from 0.77190\n",
      "Epoch 14/30\n",
      "144/144 [==============================] - 40s 275ms/step - loss: 0.4923 - accuracy: 0.7592 - val_loss: 0.5309 - val_accuracy: 0.7583\n",
      "\n",
      "Epoch 00014: val_accuracy did not improve from 0.77190\n",
      "Epoch 15/30\n",
      "144/144 [==============================] - 40s 275ms/step - loss: 0.4866 - accuracy: 0.7639 - val_loss: 2.0296 - val_accuracy: 0.5914\n",
      "\n",
      "Epoch 00015: val_accuracy did not improve from 0.77190\n",
      "Epoch 16/30\n",
      "144/144 [==============================] - 40s 275ms/step - loss: 0.4980 - accuracy: 0.7621 - val_loss: 1.3041 - val_accuracy: 0.6377\n",
      "\n",
      "Epoch 00016: val_accuracy did not improve from 0.77190\n",
      "Epoch 17/30\n",
      "144/144 [==============================] - 39s 274ms/step - loss: 0.4860 - accuracy: 0.7638 - val_loss: 3.6666 - val_accuracy: 0.6279\n",
      "\n",
      "Epoch 00017: val_accuracy did not improve from 0.77190\n",
      "Epoch 18/30\n",
      "144/144 [==============================] - 40s 276ms/step - loss: 0.4952 - accuracy: 0.7586 - val_loss: 0.4978 - val_accuracy: 0.7565\n",
      "\n",
      "Epoch 00018: val_accuracy did not improve from 0.77190\n",
      "Epoch 19/30\n",
      "144/144 [==============================] - 39s 274ms/step - loss: 0.4898 - accuracy: 0.7622 - val_loss: 0.5935 - val_accuracy: 0.7351\n",
      "\n",
      "Epoch 00019: val_accuracy did not improve from 0.77190\n",
      "Epoch 20/30\n",
      "144/144 [==============================] - 40s 280ms/step - loss: 0.4908 - accuracy: 0.7570 - val_loss: 0.7096 - val_accuracy: 0.7210\n",
      "\n",
      "Epoch 00020: val_accuracy did not improve from 0.77190\n",
      "Epoch 21/30\n",
      "144/144 [==============================] - 40s 274ms/step - loss: 0.4815 - accuracy: 0.7633 - val_loss: 0.8459 - val_accuracy: 0.7039\n",
      "\n",
      "Epoch 00021: val_accuracy did not improve from 0.77190\n",
      "Epoch 22/30\n",
      "144/144 [==============================] - 40s 274ms/step - loss: 0.4953 - accuracy: 0.7618 - val_loss: 0.7891 - val_accuracy: 0.6704\n",
      "\n",
      "Epoch 00022: val_accuracy did not improve from 0.77190\n",
      "Epoch 23/30\n",
      "144/144 [==============================] - 40s 275ms/step - loss: 0.4927 - accuracy: 0.7584 - val_loss: 0.5652 - val_accuracy: 0.7442\n",
      "\n",
      "Epoch 00023: val_accuracy did not improve from 0.77190\n",
      "Epoch 24/30\n",
      "144/144 [==============================] - 39s 274ms/step - loss: 0.4812 - accuracy: 0.7631 - val_loss: 0.6358 - val_accuracy: 0.7082\n",
      "\n",
      "Epoch 00024: val_accuracy did not improve from 0.77190\n",
      "Epoch 25/30\n",
      "144/144 [==============================] - 39s 274ms/step - loss: 0.4771 - accuracy: 0.7686 - val_loss: 0.4817 - val_accuracy: 0.7623\n",
      "\n",
      "Epoch 00025: val_accuracy did not improve from 0.77190\n",
      "Epoch 26/30\n",
      "144/144 [==============================] - 39s 274ms/step - loss: 0.4712 - accuracy: 0.7710 - val_loss: 0.6384 - val_accuracy: 0.7175\n",
      "\n",
      "Epoch 00026: val_accuracy did not improve from 0.77190\n",
      "Epoch 27/30\n",
      "144/144 [==============================] - 40s 274ms/step - loss: 0.4738 - accuracy: 0.7677 - val_loss: 0.5649 - val_accuracy: 0.7492\n",
      "\n",
      "Epoch 00027: val_accuracy did not improve from 0.77190\n",
      "Epoch 28/30\n",
      "144/144 [==============================] - 39s 274ms/step - loss: 0.4700 - accuracy: 0.7722 - val_loss: 0.4506 - val_accuracy: 0.7820\n",
      "\n",
      "Epoch 00028: val_accuracy improved from 0.77190 to 0.78197, saving model to best_model_5conv2dense_woutBG.h5\n",
      "Epoch 29/30\n",
      "144/144 [==============================] - 39s 274ms/step - loss: 0.4728 - accuracy: 0.7674 - val_loss: 0.5140 - val_accuracy: 0.7608\n",
      "\n",
      "Epoch 00029: val_accuracy did not improve from 0.78197\n",
      "Epoch 30/30\n",
      "144/144 [==============================] - 39s 274ms/step - loss: 0.4695 - accuracy: 0.7676 - val_loss: 1.2072 - val_accuracy: 0.6458\n",
      "\n",
      "Epoch 00030: val_accuracy did not improve from 0.78197\n"
     ]
    }
   ],
   "source": [
    "history = model.fit_generator(\n",
    "    aug.flow(x_train, y_train, batch_size=BS),\n",
    "    validation_data=(x_test, y_test),\n",
    "    steps_per_epoch=len(x_train) // BS,\n",
    "    epochs=EPOCHS, verbose=1,\n",
    "    callbacks=[checkpoint]\n",
    "    )"
   ]
  },
  {
   "cell_type": "code",
   "execution_count": 15,
   "metadata": {
    "ExecuteTime": {
     "end_time": "2019-12-11T19:41:32.829793Z",
     "start_time": "2019-12-11T19:41:32.283651Z"
    }
   },
   "outputs": [
    {
     "data": {
      "image/png": "[encoded data removed]",
      "text/plain": [
       "<Figure size 432x288 with 1 Axes>"
      ]
     },
     "metadata": {
      "needs_background": "light"
     },
     "output_type": "display_data"
    },
    {
     "data": {
      "image/png": "[encoded data removed]",
      "text/plain": [
       "<Figure size 432x288 with 1 Axes>"
      ]
     },
     "metadata": {
      "needs_background": "light"
     },
     "output_type": "display_data"
    }
   ],
   "source": [
    "acc = history.history['accuracy']\n",
    "val_acc = history.history['val_accuracy']\n",
    "loss = history.history['loss']\n",
    "val_loss = history.history['val_loss']\n",
    "epochs = range(1, len(acc) + 1)\n",
    "#Train and validation accuracy\n",
    "plt.plot(epochs, acc, 'b', label='Training accurarcy')\n",
    "plt.plot(epochs, val_acc, 'r', label='Validation accurarcy')\n",
    "plt.title('Training and Validation accurarcy')\n",
    "plt.legend()\n",
    "\n",
    "plt.figure()\n",
    "#Train and validation loss\n",
    "plt.plot(epochs, loss, 'b', label='Training loss')\n",
    "plt.plot(epochs, val_loss, 'r', label='Validation loss')\n",
    "plt.title('Training and Validation loss')\n",
    "plt.legend()\n",
    "plt.show()"
   ]
  },
  {
   "cell_type": "code",
   "execution_count": 16,
   "metadata": {
    "ExecuteTime": {
     "end_time": "2019-12-11T19:41:54.029510Z",
     "start_time": "2019-12-11T19:41:53.055425Z"
    }
   },
   "outputs": [],
   "source": [
    "# model = model.load('best_model_5conv2dense.h5')\n",
    "from keras.models import load_model\n",
    "from keras.models import model_from_json\n",
    "\n",
    "json_file = open('model.json', 'r')\n",
    "loaded_model_json = json_file.read()\n",
    "json_file.close()\n",
    "loaded_model = model_from_json(loaded_model_json)\n",
    "loaded_model.compile(loss=\"binary_crossentropy\", optimizer=opt,metrics=[\"accuracy\"])\n",
    "\n",
    "# load weights into new model\n",
    "loaded_model.load_weights(\"best_model_5conv2dense_woutBG.h5\")"
   ]
  },
  {
   "cell_type": "code",
   "execution_count": 17,
   "metadata": {
    "ExecuteTime": {
     "end_time": "2019-12-11T19:42:10.406761Z",
     "start_time": "2019-12-11T19:42:05.107608Z"
    }
   },
   "outputs": [
    {
     "name": "stdout",
     "output_type": "stream",
     "text": [
      "[INFO] Calculating model accuracy\n",
      "993/993 [==============================] - 5s 5ms/step\n",
      "Test Accuracy: 78.19738388061523\n"
     ]
    }
   ],
   "source": [
    "print(\"[INFO] Calculating model accuracy\")\n",
    "scores = loaded_model.evaluate(x_test, y_test)\n",
    "print(f\"Test Accuracy: {scores[1]*100}\")"
   ]
  },
  {
   "cell_type": "markdown",
   "metadata": {},
   "source": [
    "### Looking at each type of leaf:"
   ]
  },
  {
   "cell_type": "code",
   "execution_count": 18,
   "metadata": {
    "ExecuteTime": {
     "end_time": "2019-12-11T19:42:14.152938Z",
     "start_time": "2019-12-11T19:42:12.904658Z"
    }
   },
   "outputs": [
    {
     "name": "stdout",
     "output_type": "stream",
     "text": [
      "179/179 [==============================] - 1s 7ms/step\n",
      "Test Accuracy: 85.33519506454468\n"
     ]
    }
   ],
   "source": [
    "scores_brownspot = loaded_model.evaluate(x_test[y_test[:,0]==1], y_test[y_test[:,0]==1])\n",
    "print(f\"Test Accuracy: {scores_brownspot[1]*100}\")"
   ]
  },
  {
   "cell_type": "code",
   "execution_count": 19,
   "metadata": {
    "ExecuteTime": {
     "end_time": "2019-12-11T19:42:18.690298Z",
     "start_time": "2019-12-11T19:42:16.648724Z"
    }
   },
   "outputs": [
    {
     "name": "stdout",
     "output_type": "stream",
     "text": [
      "432/432 [==============================] - 2s 5ms/step\n",
      "Test Accuracy: 92.1875\n"
     ]
    }
   ],
   "source": [
    "scores_healthy = loaded_model.evaluate(x_test[y_test[:,1]==1], y_test[y_test[:,1]==1])\n",
    "print(f\"Test Accuracy: {scores_healthy[1]*100}\")"
   ]
  },
  {
   "cell_type": "code",
   "execution_count": 20,
   "metadata": {
    "ExecuteTime": {
     "end_time": "2019-12-11T19:42:22.293304Z",
     "start_time": "2019-12-11T19:42:21.193715Z"
    }
   },
   "outputs": [
    {
     "name": "stdout",
     "output_type": "stream",
     "text": [
      "148/148 [==============================] - 1s 7ms/step\n",
      "Test Accuracy: 54.39189076423645\n"
     ]
    }
   ],
   "source": [
    "scores_hispa = loaded_model.evaluate(x_test[y_test[:,2]==1], y_test[y_test[:,2]==1])\n",
    "print(f\"Test Accuracy: {scores_hispa[1]*100}\")"
   ]
  },
  {
   "cell_type": "code",
   "execution_count": 21,
   "metadata": {
    "ExecuteTime": {
     "end_time": "2019-12-11T19:42:26.245883Z",
     "start_time": "2019-12-11T19:42:24.836716Z"
    }
   },
   "outputs": [
    {
     "name": "stdout",
     "output_type": "stream",
     "text": [
      "234/234 [==============================] - 1s 6ms/step\n",
      "Test Accuracy: 61.965811252593994\n"
     ]
    }
   ],
   "source": [
    "scores_leafblast = loaded_model.evaluate(x_test[y_test[:,3]==1], y_test[y_test[:,3]==1])\n",
    "print(f\"Test Accuracy: {scores_leafblast[1]*100}\")"
   ]
  },
  {
   "cell_type": "markdown",
   "metadata": {},
   "source": [
    "## Results\n",
    "\n",
    "\n",
    "Training all the models discussed with the processed images, the accuracy of each model on a validation set is shown in Table 1. Comparing the different models, the model trained from top to bottom yielded the highest accuracy at 78.2%.\n"
   ]
  },
  {
   "cell_type": "markdown",
   "metadata": {},
   "source": [
    "<!-- \\begin{table}[]\n",
    "\\begin{tabular}{ll} -->\n",
    "\n",
    "| Base model                                      | Accuracy |\n",
    "|----|----|\n",
    "|VGG16 | 58.4\\% | \n",
    "|VGG16 (with first three blocks are frozen) | 72.2\\%  |\n",
    "|VGG19                                           | 72.4\\%   |\n",
    "|XCeption                                        | 72.2\\%   |\n",
    "|ResNet50                                        | 72.2\\%   |\n",
    "|5-layer convolution                             | 78.2\\%  |\n"
   ]
  },
  {
   "cell_type": "markdown",
   "metadata": {},
   "source": [
    "Looking further into the best model and how well it predicts each class, an 85.3% accuracy was found for brown spot, 54.4% for hispa, and 62.0% for leaf blast. On the other hand for healthy rice leaves, it was classified accurately 92.2% of the time. From this, discrepancies on prediction power of the model to different classifications can be observed. Except for brown spots, the model only accurately predicts more than half of rice leaves with disease. \n",
    "\n",
    "This can be attributed to the dataset used wherein the progression of the disease on the leaves were at its initial stages, so the symptoms are not that developed yet. While the model suffers from relatively low accuracy because of this, the power to predict disease at an earlier stage would give the farmers the opportunity to treat the diseases even before it spreads. This would save them time and energy that they have limited amount of and allow them to focus on the growth of their crops with less worries. That said, seeing how effective the model is on predicting if healthy rice leaves are actually healthy, it can prevent farmers from unnecessarily providing treatment when the plants are actually healthy."
   ]
  },
  {
   "cell_type": "markdown",
   "metadata": {},
   "source": [
    "## Conclusions and Recommendations"
   ]
  },
  {
   "cell_type": "markdown",
   "metadata": {},
   "source": [
    "Three different classifications of rice leaf diseases were studied and compared with the healthy rice leaf using the convolutional neural network. Using more than 3000 images as training data and different image pre-processing techniques, we were able to identify what type of disease a leaf has with 78.2\\% accuracy. Diving deeper, we can accurately classify a healthy leaf as healthy which would aid the farmers save resources by not treating the already healthy plants.\n",
    "\n",
    "For future studies, we recommend to improve the accuracy of prediction by exploring other network architecture or adding layers or nodes to the current model, scale the project to other diseases for the model to be more general, and, lastly, consult with farmers and consider their input into the pre-processing and deployment of the model.\n"
   ]
  },
  {
   "cell_type": "markdown",
   "metadata": {},
   "source": [
    "## Acknowledgements"
   ]
  },
  {
   "cell_type": "markdown",
   "metadata": {},
   "source": [
    "  The authors would like to acknowledge our Machine Learning 2.0 professors, Prof. Christopher Monterola, and Prof. Erika Legara for all their guidance and support for the completion of this project. "
   ]
  },
  {
   "cell_type": "code",
   "execution_count": null,
   "metadata": {},
   "outputs": [],
   "source": []
  }
 ],
 "metadata": {
  "kernelspec": {
   "display_name": "Python 3",
   "language": "python",
   "name": "python3"
  },
  "language_info": {
   "codemirror_mode": {
    "name": "ipython",
    "version": 3
   },
   "file_extension": ".py",
   "mimetype": "text/x-python",
   "name": "python",
   "nbconvert_exporter": "python",
   "pygments_lexer": "ipython3",
   "version": "3.7.5"
  },
  "toc": {
   "base_numbering": 1,
   "nav_menu": {},
   "number_sections": false,
   "sideBar": true,
   "skip_h1_title": false,
   "title_cell": "Table of Contents",
   "title_sidebar": "Contents",
   "toc_cell": false,
   "toc_position": {
    "height": "calc(100% - 180px)",
    "left": "10px",
    "top": "150px",
    "width": "202.188px"
   },
   "toc_section_display": true,
   "toc_window_display": true
  },
  "varInspector": {
   "cols": {
    "lenName": 16,
    "lenType": 16,
    "lenVar": 40
   },
   "kernels_config": {
    "python": {
     "delete_cmd_postfix": "",
     "delete_cmd_prefix": "del ",
     "library": "var_list.py",
     "varRefreshCmd": "print(var_dic_list())"
    },
    "r": {
     "delete_cmd_postfix": ") ",
     "delete_cmd_prefix": "rm(",
     "library": "var_list.r",
     "varRefreshCmd": "cat(var_dic_list()) "
    }
   },
   "types_to_exclude": [
    "module",
    "function",
    "builtin_function_or_method",
    "instance",
    "_Feature"
   ],
   "window_display": false
  }
 },
 "nbformat": 4,
 "nbformat_minor": 2
}
